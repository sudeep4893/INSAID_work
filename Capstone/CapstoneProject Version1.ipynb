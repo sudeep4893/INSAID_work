{
 "cells": [
  {
   "cell_type": "markdown",
   "metadata": {},
   "source": [
    "<img src=\"https://github.com/insaid2018/Term-1/blob/master/Images/INSAID_Full%20Logo.png?raw=true\" width=\"240\" height=\"360\" />\n",
    "\n",
    "<center><h2>Capstone Project : HR Analytics on Employee Attrition & Retain employee</h2></center><br>\n",
    "<center><h3>Identify employees, HR can be more proactive in reaching out to them before it's too late.</h3></center>"
   ]
  },
  {
   "cell_type": "markdown",
   "metadata": {},
   "source": [
    "* <B>Created by : Sudeep Raj</B>"
   ]
  },
  {
   "cell_type": "markdown",
   "metadata": {},
   "source": [
    "## Table of contents\n",
    "1. Objective\n",
    "2. Data Fields\n",
    "3. Data Loading and Visualization\n",
    "4. Conclusion"
   ]
  },
  {
   "cell_type": "markdown",
   "metadata": {},
   "source": [
    "### 1. Objective"
   ]
  },
  {
   "cell_type": "markdown",
   "metadata": {},
   "source": [
    "Your client for this project is the HR Department at a software company.\n",
    "\n",
    "* They want to try a new initiative to retain employees.\n",
    "* The idea is to use data to predict whether an employee is likely to leave.\n",
    "* Once these employees are identified, HR can be more proactive in reaching out to them before it's too late.\n",
    "* They only want to deal with the data that is related to permanent employees.\n",
    "\n",
    "Current Practice\n",
    "* Once an employee leaves, he or she is taken an interview with the name “exit interview” and shares reasons for leaving. The HR Department then tries and learns insights from the interview and makes changes accordingly.\n",
    "\n",
    "This suffers from the following problems:\n",
    "* This approach is that it's too haphazard. The quality of insight gained from an interview depends heavily on the skill of the interviewer.\n",
    "* The second problem is these insights can't be aggregated and interlaced across all employees who have left.\n",
    "* The third is that it is too late by the time the proposed policy changes take effect.\n",
    "\n",
    "The HR department has hired you as data science consultants. They want to supplement their exit interviews with a more proactive approach."
   ]
  },
  {
   "cell_type": "markdown",
   "metadata": {},
   "source": [
    "Your Role\n",
    "* You are given datasets of past employees and their status (still employed or already left).\n",
    "* Your task is to build a classification model using the datasets.\n",
    "* Because there was no machine learning model for this problem in the company, you don’t have quantifiable win condition. You need to build the best possible model."
   ]
  },
  {
   "cell_type": "markdown",
   "metadata": {},
   "source": [
    "### 2. Data Fields"
   ]
  },
  {
   "cell_type": "markdown",
   "metadata": {},
   "source": [
    "The Business Intelligence Analysts of the Company provided you three datasets that contain information about past employees and their status (still employed or already left).\n",
    "\n",
    "1. department_data\n",
    "\n",
    "    This dataset contains information about each department. The schema of the dataset is as follows:\n",
    "    * dept_id – Unique Department Code\n",
    "    * dept_name – Name of the Department\n",
    "    * dept_head – Name of the Head of the Department\n",
    "\n",
    "2. employee_details_data\n",
    "\n",
    "    This dataset consists of Employee ID, their Age, Gender and Marital Status. The schema of this dataset is as follows:\n",
    "    * employee_id – Unique ID Number for each employee\n",
    "    * age – Age of the employee\n",
    "    * gender – Gender of the employee\n",
    "    * marital_status – Marital Status of the employee\n",
    "\n",
    "3. employee_data\n",
    "\n",
    "    This dataset consists of each employee’s Administrative Information, Workload Information, Mutual Evaluation Information and Status.\n",
    "\n",
    "    __Target variable__\n",
    "\n",
    "    * status – Current employment status (Employed / Left)\n",
    "\n",
    "    __Administrative information__\n",
    "\n",
    "    * department – Department to which the employees belong(ed) to\n",
    "    * salary – Salary level with respect to rest of their department\n",
    "    * tenure – Number of years at the company\n",
    "    * recently_promoted – Was the employee promoted in the last 3 years?\n",
    "    * employee_id – Unique ID Number for each employee\n",
    "\n",
    "    __Workload information__\n",
    "\n",
    "    * n_projects – Number of projects employee has worked on\n",
    "    * avg_monthly_hrs – Average number of hours worked per month\n",
    "\n",
    "    __Mutual evaluation information__\n",
    "\n",
    "    * satisfaction – Score for employee’s satisfaction with the company (higher is better)\n",
    "    * last_evaluation – Score for most recent evaluation of employee (higher is better)\n",
    "    * filed_complaint – Has the employee filed a formal complaint in the last 3 years?\n"
   ]
  },
  {
   "cell_type": "markdown",
   "metadata": {},
   "source": [
    "### 3. Data Loading and Visualization"
   ]
  },
  {
   "cell_type": "code",
   "execution_count": 2,
   "metadata": {
    "collapsed": true
   },
   "outputs": [],
   "source": [
    "# Database \n",
    "import mysql.connector\n",
    "from mysql.connector import Error\n",
    "\n",
    "# ML\n",
    "import pandas as pd \n",
    "import numpy as np\n",
    "import matplotlib.pylab as plt \n",
    "%matplotlib inline   \n",
    "import seaborn as sns\n",
    "\n",
    "import warnings \n",
    "warnings.filterwarnings('ignore')"
   ]
  },
  {
   "cell_type": "code",
   "execution_count": 3,
   "metadata": {
    "collapsed": false
   },
   "outputs": [
    {
     "name": "stdout",
     "output_type": "stream",
     "text": [
      "Connected to MySQL database... MySQL Server version on  5.7.25-0ubuntu0.18.04.2\n",
      "Your connected to -  ('Capstone2',)\n",
      "  dept_id dept_name        dept_head\n",
      "0  D00-IT        IT       Henry Adey\n",
      "1  D00-SS     Sales  Edward J Bayley\n",
      "2  D00-TP      Temp  Micheal Zachrey\n",
      "   employee_id  age  gender marital_status\n",
      "0       113558   43    Male        Married\n",
      "1       112256   24  Female      Unmarried\n",
      "2       112586   22  Female      Unmarried\n",
      "   avg_monthly_hrs department  filed_complaint  last_evaluation  n_projects  \\\n",
      "0            246.0       None              NaN         0.866838           6   \n",
      "1            134.0       None              NaN         0.555718           2   \n",
      "2            156.0     D00-SS              1.0         0.474082           2   \n",
      "\n",
      "   recently_promoted  salary  satisfaction status  tenure  employee_id  \n",
      "0                NaN  medium      0.134415   Left     4.0       124467  \n",
      "1                NaN     low      0.511041   Left     3.0       112210  \n",
      "2                NaN  medium      0.405101   Left     3.0       126150  \n",
      "MySQL connection is closed\n"
     ]
    }
   ],
   "source": [
    "tables = ['department_data', 'employee_details_data', 'employee_data']\n",
    "try:\n",
    "    mySQLconnection = mysql.connector.connect(host='projects.insaid.co', database='Capstone2', user='student', password='student')\n",
    "    \n",
    "    if mySQLconnection.is_connected():\n",
    "        db_Info = mySQLconnection.get_server_info()\n",
    "        print(\"Connected to MySQL database... MySQL Server version on \",db_Info)\n",
    "        cursor = mySQLconnection.cursor()\n",
    "        cursor.execute(\"select database();\")\n",
    "        database = cursor.fetchone()\n",
    "        print (\"Your connected to - \", database)\n",
    "            \n",
    "        sql_select_Query = \"select * from department_data\"\n",
    "        SQL_Query = pd.read_sql_query(sql_select_Query, mySQLconnection)\n",
    "        df_departmentData = pd.DataFrame(SQL_Query)\n",
    "        print(df_departmentData.head(3))\n",
    "        \n",
    "        sql_select_Query = \"select * from employee_details_data\"\n",
    "        SQL_Query = pd.read_sql_query(sql_select_Query, mySQLconnection)\n",
    "        df_employeeDetailsData = pd.DataFrame(SQL_Query)\n",
    "        print(df_employeeDetailsData.head(3))\n",
    "        \n",
    "        sql_select_Query = \"select * from employee_data\"\n",
    "        SQL_Query = pd.read_sql_query(sql_select_Query, mySQLconnection)\n",
    "        df_employeeData = pd.DataFrame(SQL_Query)\n",
    "        print(df_employeeData.head(3))\n",
    "        \n",
    "except Error as e :\n",
    "    print (\"Error while connecting to MySQL\", e)\n",
    "finally:\n",
    "    #closing database connection.\n",
    "    if(mySQLconnection .is_connected()):\n",
    "        mySQLconnection.close()\n",
    "        print(\"MySQL connection is closed\")"
   ]
  },
  {
   "cell_type": "code",
   "execution_count": 4,
   "metadata": {
    "collapsed": false
   },
   "outputs": [
    {
     "data": {
      "text/plain": [
       "(11, 3)"
      ]
     },
     "execution_count": 4,
     "metadata": {},
     "output_type": "execute_result"
    }
   ],
   "source": [
    "df_departmentData.shape"
   ]
  },
  {
   "cell_type": "code",
   "execution_count": 5,
   "metadata": {
    "collapsed": false
   },
   "outputs": [
    {
     "data": {
      "text/html": [
       "<div>\n",
       "<style scoped>\n",
       "    .dataframe tbody tr th:only-of-type {\n",
       "        vertical-align: middle;\n",
       "    }\n",
       "\n",
       "    .dataframe tbody tr th {\n",
       "        vertical-align: top;\n",
       "    }\n",
       "\n",
       "    .dataframe thead th {\n",
       "        text-align: right;\n",
       "    }\n",
       "</style>\n",
       "<table border=\"1\" class=\"dataframe\">\n",
       "  <thead>\n",
       "    <tr style=\"text-align: right;\">\n",
       "      <th></th>\n",
       "      <th>dept_id</th>\n",
       "      <th>dept_name</th>\n",
       "      <th>dept_head</th>\n",
       "    </tr>\n",
       "  </thead>\n",
       "  <tbody>\n",
       "    <tr>\n",
       "      <th>0</th>\n",
       "      <td>D00-IT</td>\n",
       "      <td>IT</td>\n",
       "      <td>Henry Adey</td>\n",
       "    </tr>\n",
       "    <tr>\n",
       "      <th>1</th>\n",
       "      <td>D00-SS</td>\n",
       "      <td>Sales</td>\n",
       "      <td>Edward J Bayley</td>\n",
       "    </tr>\n",
       "    <tr>\n",
       "      <th>2</th>\n",
       "      <td>D00-TP</td>\n",
       "      <td>Temp</td>\n",
       "      <td>Micheal Zachrey</td>\n",
       "    </tr>\n",
       "    <tr>\n",
       "      <th>3</th>\n",
       "      <td>D00-ENG</td>\n",
       "      <td>Engineering</td>\n",
       "      <td>Sushant Raghunathan K</td>\n",
       "    </tr>\n",
       "    <tr>\n",
       "      <th>4</th>\n",
       "      <td>D00-SP</td>\n",
       "      <td>Support</td>\n",
       "      <td>Amelia Westray</td>\n",
       "    </tr>\n",
       "    <tr>\n",
       "      <th>5</th>\n",
       "      <td>D00-FN</td>\n",
       "      <td>Finance</td>\n",
       "      <td>Aanchal J</td>\n",
       "    </tr>\n",
       "    <tr>\n",
       "      <th>6</th>\n",
       "      <td>D00-PR</td>\n",
       "      <td>Procurement</td>\n",
       "      <td>Louie Viles</td>\n",
       "    </tr>\n",
       "    <tr>\n",
       "      <th>7</th>\n",
       "      <td>D00-AD</td>\n",
       "      <td>Admin</td>\n",
       "      <td>Evelyn Tolson</td>\n",
       "    </tr>\n",
       "    <tr>\n",
       "      <th>8</th>\n",
       "      <td>D00-MN</td>\n",
       "      <td>Management</td>\n",
       "      <td>Ellie Trafton</td>\n",
       "    </tr>\n",
       "    <tr>\n",
       "      <th>9</th>\n",
       "      <td>D00-MT</td>\n",
       "      <td>Marketing</td>\n",
       "      <td>Reuben Swann</td>\n",
       "    </tr>\n",
       "    <tr>\n",
       "      <th>10</th>\n",
       "      <td>D00-PD</td>\n",
       "      <td>Product</td>\n",
       "      <td>Darcy Staines</td>\n",
       "    </tr>\n",
       "  </tbody>\n",
       "</table>\n",
       "</div>"
      ],
      "text/plain": [
       "    dept_id    dept_name              dept_head\n",
       "0    D00-IT           IT             Henry Adey\n",
       "1    D00-SS        Sales        Edward J Bayley\n",
       "2    D00-TP         Temp        Micheal Zachrey\n",
       "3   D00-ENG  Engineering  Sushant Raghunathan K\n",
       "4    D00-SP      Support         Amelia Westray\n",
       "5    D00-FN      Finance              Aanchal J\n",
       "6    D00-PR  Procurement            Louie Viles\n",
       "7    D00-AD        Admin          Evelyn Tolson\n",
       "8    D00-MN   Management          Ellie Trafton\n",
       "9    D00-MT    Marketing           Reuben Swann\n",
       "10   D00-PD      Product          Darcy Staines"
      ]
     },
     "execution_count": 5,
     "metadata": {},
     "output_type": "execute_result"
    }
   ],
   "source": [
    "df_departmentData.head(12)"
   ]
  },
  {
   "cell_type": "code",
   "execution_count": 6,
   "metadata": {
    "collapsed": false
   },
   "outputs": [
    {
     "data": {
      "text/plain": [
       "(14245, 4)"
      ]
     },
     "execution_count": 6,
     "metadata": {},
     "output_type": "execute_result"
    }
   ],
   "source": [
    "df_employeeDetailsData.shape"
   ]
  },
  {
   "cell_type": "code",
   "execution_count": 7,
   "metadata": {
    "collapsed": false
   },
   "outputs": [
    {
     "data": {
      "text/plain": [
       "False"
      ]
     },
     "execution_count": 7,
     "metadata": {},
     "output_type": "execute_result"
    }
   ],
   "source": [
    "df_employeeDetailsData.isnull().values.any()"
   ]
  },
  {
   "cell_type": "markdown",
   "metadata": {},
   "source": [
    "No Null records present in __df_employeeDetailsData.__"
   ]
  },
  {
   "cell_type": "code",
   "execution_count": 8,
   "metadata": {
    "collapsed": false
   },
   "outputs": [
    {
     "data": {
      "text/html": [
       "<div>\n",
       "<style scoped>\n",
       "    .dataframe tbody tr th:only-of-type {\n",
       "        vertical-align: middle;\n",
       "    }\n",
       "\n",
       "    .dataframe tbody tr th {\n",
       "        vertical-align: top;\n",
       "    }\n",
       "\n",
       "    .dataframe thead th {\n",
       "        text-align: right;\n",
       "    }\n",
       "</style>\n",
       "<table border=\"1\" class=\"dataframe\">\n",
       "  <thead>\n",
       "    <tr style=\"text-align: right;\">\n",
       "      <th></th>\n",
       "      <th>employee_id</th>\n",
       "      <th>age</th>\n",
       "      <th>gender</th>\n",
       "      <th>marital_status</th>\n",
       "    </tr>\n",
       "  </thead>\n",
       "  <tbody>\n",
       "    <tr>\n",
       "      <th>0</th>\n",
       "      <td>113558</td>\n",
       "      <td>43</td>\n",
       "      <td>Male</td>\n",
       "      <td>Married</td>\n",
       "    </tr>\n",
       "    <tr>\n",
       "      <th>1</th>\n",
       "      <td>112256</td>\n",
       "      <td>24</td>\n",
       "      <td>Female</td>\n",
       "      <td>Unmarried</td>\n",
       "    </tr>\n",
       "    <tr>\n",
       "      <th>2</th>\n",
       "      <td>112586</td>\n",
       "      <td>22</td>\n",
       "      <td>Female</td>\n",
       "      <td>Unmarried</td>\n",
       "    </tr>\n",
       "    <tr>\n",
       "      <th>3</th>\n",
       "      <td>108071</td>\n",
       "      <td>36</td>\n",
       "      <td>Male</td>\n",
       "      <td>Married</td>\n",
       "    </tr>\n",
       "    <tr>\n",
       "      <th>4</th>\n",
       "      <td>116915</td>\n",
       "      <td>38</td>\n",
       "      <td>Male</td>\n",
       "      <td>Married</td>\n",
       "    </tr>\n",
       "  </tbody>\n",
       "</table>\n",
       "</div>"
      ],
      "text/plain": [
       "   employee_id  age  gender marital_status\n",
       "0       113558   43    Male        Married\n",
       "1       112256   24  Female      Unmarried\n",
       "2       112586   22  Female      Unmarried\n",
       "3       108071   36    Male        Married\n",
       "4       116915   38    Male        Married"
      ]
     },
     "execution_count": 8,
     "metadata": {},
     "output_type": "execute_result"
    }
   ],
   "source": [
    "df_employeeDetailsData.head()"
   ]
  },
  {
   "cell_type": "code",
   "execution_count": 9,
   "metadata": {
    "collapsed": false
   },
   "outputs": [
    {
     "data": {
      "text/plain": [
       "(14150, 11)"
      ]
     },
     "execution_count": 9,
     "metadata": {},
     "output_type": "execute_result"
    }
   ],
   "source": [
    "df_employeeData.shape"
   ]
  },
  {
   "cell_type": "code",
   "execution_count": 10,
   "metadata": {
    "collapsed": false
   },
   "outputs": [
    {
     "data": {
      "text/html": [
       "<div>\n",
       "<style scoped>\n",
       "    .dataframe tbody tr th:only-of-type {\n",
       "        vertical-align: middle;\n",
       "    }\n",
       "\n",
       "    .dataframe tbody tr th {\n",
       "        vertical-align: top;\n",
       "    }\n",
       "\n",
       "    .dataframe thead th {\n",
       "        text-align: right;\n",
       "    }\n",
       "</style>\n",
       "<table border=\"1\" class=\"dataframe\">\n",
       "  <thead>\n",
       "    <tr style=\"text-align: right;\">\n",
       "      <th></th>\n",
       "      <th>avg_monthly_hrs</th>\n",
       "      <th>department</th>\n",
       "      <th>filed_complaint</th>\n",
       "      <th>last_evaluation</th>\n",
       "      <th>n_projects</th>\n",
       "      <th>recently_promoted</th>\n",
       "      <th>salary</th>\n",
       "      <th>satisfaction</th>\n",
       "      <th>status</th>\n",
       "      <th>tenure</th>\n",
       "      <th>employee_id</th>\n",
       "    </tr>\n",
       "  </thead>\n",
       "  <tbody>\n",
       "    <tr>\n",
       "      <th>0</th>\n",
       "      <td>246.0</td>\n",
       "      <td>None</td>\n",
       "      <td>NaN</td>\n",
       "      <td>0.866838</td>\n",
       "      <td>6</td>\n",
       "      <td>NaN</td>\n",
       "      <td>medium</td>\n",
       "      <td>0.134415</td>\n",
       "      <td>Left</td>\n",
       "      <td>4.0</td>\n",
       "      <td>124467</td>\n",
       "    </tr>\n",
       "    <tr>\n",
       "      <th>1</th>\n",
       "      <td>134.0</td>\n",
       "      <td>None</td>\n",
       "      <td>NaN</td>\n",
       "      <td>0.555718</td>\n",
       "      <td>2</td>\n",
       "      <td>NaN</td>\n",
       "      <td>low</td>\n",
       "      <td>0.511041</td>\n",
       "      <td>Left</td>\n",
       "      <td>3.0</td>\n",
       "      <td>112210</td>\n",
       "    </tr>\n",
       "    <tr>\n",
       "      <th>2</th>\n",
       "      <td>156.0</td>\n",
       "      <td>D00-SS</td>\n",
       "      <td>1.0</td>\n",
       "      <td>0.474082</td>\n",
       "      <td>2</td>\n",
       "      <td>NaN</td>\n",
       "      <td>medium</td>\n",
       "      <td>0.405101</td>\n",
       "      <td>Left</td>\n",
       "      <td>3.0</td>\n",
       "      <td>126150</td>\n",
       "    </tr>\n",
       "    <tr>\n",
       "      <th>3</th>\n",
       "      <td>256.0</td>\n",
       "      <td>D00-SP</td>\n",
       "      <td>NaN</td>\n",
       "      <td>0.961360</td>\n",
       "      <td>6</td>\n",
       "      <td>NaN</td>\n",
       "      <td>low</td>\n",
       "      <td>0.152974</td>\n",
       "      <td>Left</td>\n",
       "      <td>4.0</td>\n",
       "      <td>125346</td>\n",
       "    </tr>\n",
       "    <tr>\n",
       "      <th>4</th>\n",
       "      <td>146.0</td>\n",
       "      <td>D00-SS</td>\n",
       "      <td>NaN</td>\n",
       "      <td>0.507349</td>\n",
       "      <td>2</td>\n",
       "      <td>NaN</td>\n",
       "      <td>medium</td>\n",
       "      <td>0.434845</td>\n",
       "      <td>Left</td>\n",
       "      <td>3.0</td>\n",
       "      <td>113707</td>\n",
       "    </tr>\n",
       "  </tbody>\n",
       "</table>\n",
       "</div>"
      ],
      "text/plain": [
       "   avg_monthly_hrs department  filed_complaint  last_evaluation  n_projects  \\\n",
       "0            246.0       None              NaN         0.866838           6   \n",
       "1            134.0       None              NaN         0.555718           2   \n",
       "2            156.0     D00-SS              1.0         0.474082           2   \n",
       "3            256.0     D00-SP              NaN         0.961360           6   \n",
       "4            146.0     D00-SS              NaN         0.507349           2   \n",
       "\n",
       "   recently_promoted  salary  satisfaction status  tenure  employee_id  \n",
       "0                NaN  medium      0.134415   Left     4.0       124467  \n",
       "1                NaN     low      0.511041   Left     3.0       112210  \n",
       "2                NaN  medium      0.405101   Left     3.0       126150  \n",
       "3                NaN     low      0.152974   Left     4.0       125346  \n",
       "4                NaN  medium      0.434845   Left     3.0       113707  "
      ]
     },
     "execution_count": 10,
     "metadata": {},
     "output_type": "execute_result"
    }
   ],
   "source": [
    "df_employeeData.head()"
   ]
  },
  {
   "cell_type": "code",
   "execution_count": 11,
   "metadata": {
    "collapsed": false
   },
   "outputs": [
    {
     "data": {
      "text/plain": [
       "array([None, 'D00-SS', 'D00-SP', 'D00-MT', 'D00-PD', 'D00-IT', 'D00-AD',\n",
       "       'D00-MN', 'D00-ENG', 'D00-PR', 'D00-TP', 'D00-FN', '-IT'],\n",
       "      dtype=object)"
      ]
     },
     "execution_count": 11,
     "metadata": {},
     "output_type": "execute_result"
    }
   ],
   "source": [
    "df_employeeData['department'].unique()"
   ]
  },
  {
   "cell_type": "markdown",
   "metadata": {},
   "source": [
    "We have to clean our data, and remove Null values."
   ]
  },
  {
   "cell_type": "markdown",
   "metadata": {},
   "source": [
    "#### Merged the data with respect to Employee id"
   ]
  },
  {
   "cell_type": "code",
   "execution_count": 12,
   "metadata": {
    "collapsed": false
   },
   "outputs": [
    {
     "data": {
      "text/html": [
       "<div>\n",
       "<style scoped>\n",
       "    .dataframe tbody tr th:only-of-type {\n",
       "        vertical-align: middle;\n",
       "    }\n",
       "\n",
       "    .dataframe tbody tr th {\n",
       "        vertical-align: top;\n",
       "    }\n",
       "\n",
       "    .dataframe thead th {\n",
       "        text-align: right;\n",
       "    }\n",
       "</style>\n",
       "<table border=\"1\" class=\"dataframe\">\n",
       "  <thead>\n",
       "    <tr style=\"text-align: right;\">\n",
       "      <th></th>\n",
       "      <th>avg_monthly_hrs</th>\n",
       "      <th>department</th>\n",
       "      <th>filed_complaint</th>\n",
       "      <th>last_evaluation</th>\n",
       "      <th>n_projects</th>\n",
       "      <th>recently_promoted</th>\n",
       "      <th>salary</th>\n",
       "      <th>satisfaction</th>\n",
       "      <th>status</th>\n",
       "      <th>tenure</th>\n",
       "      <th>employee_id</th>\n",
       "      <th>age</th>\n",
       "      <th>gender</th>\n",
       "      <th>marital_status</th>\n",
       "    </tr>\n",
       "  </thead>\n",
       "  <tbody>\n",
       "    <tr>\n",
       "      <th>0</th>\n",
       "      <td>246.0</td>\n",
       "      <td>None</td>\n",
       "      <td>NaN</td>\n",
       "      <td>0.866838</td>\n",
       "      <td>6.0</td>\n",
       "      <td>NaN</td>\n",
       "      <td>medium</td>\n",
       "      <td>0.134415</td>\n",
       "      <td>Left</td>\n",
       "      <td>4.0</td>\n",
       "      <td>124467</td>\n",
       "      <td>42.0</td>\n",
       "      <td>Female</td>\n",
       "      <td>Married</td>\n",
       "    </tr>\n",
       "    <tr>\n",
       "      <th>1</th>\n",
       "      <td>134.0</td>\n",
       "      <td>None</td>\n",
       "      <td>NaN</td>\n",
       "      <td>0.555718</td>\n",
       "      <td>2.0</td>\n",
       "      <td>NaN</td>\n",
       "      <td>low</td>\n",
       "      <td>0.511041</td>\n",
       "      <td>Left</td>\n",
       "      <td>3.0</td>\n",
       "      <td>112210</td>\n",
       "      <td>23.0</td>\n",
       "      <td>Female</td>\n",
       "      <td>Unmarried</td>\n",
       "    </tr>\n",
       "    <tr>\n",
       "      <th>2</th>\n",
       "      <td>156.0</td>\n",
       "      <td>D00-SS</td>\n",
       "      <td>1.0</td>\n",
       "      <td>0.474082</td>\n",
       "      <td>2.0</td>\n",
       "      <td>NaN</td>\n",
       "      <td>medium</td>\n",
       "      <td>0.405101</td>\n",
       "      <td>Left</td>\n",
       "      <td>3.0</td>\n",
       "      <td>126150</td>\n",
       "      <td>24.0</td>\n",
       "      <td>Female</td>\n",
       "      <td>Unmarried</td>\n",
       "    </tr>\n",
       "    <tr>\n",
       "      <th>3</th>\n",
       "      <td>256.0</td>\n",
       "      <td>D00-SP</td>\n",
       "      <td>NaN</td>\n",
       "      <td>0.961360</td>\n",
       "      <td>6.0</td>\n",
       "      <td>NaN</td>\n",
       "      <td>low</td>\n",
       "      <td>0.152974</td>\n",
       "      <td>Left</td>\n",
       "      <td>4.0</td>\n",
       "      <td>125346</td>\n",
       "      <td>51.0</td>\n",
       "      <td>Female</td>\n",
       "      <td>Married</td>\n",
       "    </tr>\n",
       "    <tr>\n",
       "      <th>4</th>\n",
       "      <td>146.0</td>\n",
       "      <td>D00-SS</td>\n",
       "      <td>NaN</td>\n",
       "      <td>0.507349</td>\n",
       "      <td>2.0</td>\n",
       "      <td>NaN</td>\n",
       "      <td>medium</td>\n",
       "      <td>0.434845</td>\n",
       "      <td>Left</td>\n",
       "      <td>3.0</td>\n",
       "      <td>113707</td>\n",
       "      <td>23.0</td>\n",
       "      <td>Female</td>\n",
       "      <td>Unmarried</td>\n",
       "    </tr>\n",
       "  </tbody>\n",
       "</table>\n",
       "</div>"
      ],
      "text/plain": [
       "   avg_monthly_hrs department  filed_complaint  last_evaluation  n_projects  \\\n",
       "0            246.0       None              NaN         0.866838         6.0   \n",
       "1            134.0       None              NaN         0.555718         2.0   \n",
       "2            156.0     D00-SS              1.0         0.474082         2.0   \n",
       "3            256.0     D00-SP              NaN         0.961360         6.0   \n",
       "4            146.0     D00-SS              NaN         0.507349         2.0   \n",
       "\n",
       "   recently_promoted  salary  satisfaction status  tenure  employee_id   age  \\\n",
       "0                NaN  medium      0.134415   Left     4.0       124467  42.0   \n",
       "1                NaN     low      0.511041   Left     3.0       112210  23.0   \n",
       "2                NaN  medium      0.405101   Left     3.0       126150  24.0   \n",
       "3                NaN     low      0.152974   Left     4.0       125346  51.0   \n",
       "4                NaN  medium      0.434845   Left     3.0       113707  23.0   \n",
       "\n",
       "   gender marital_status  \n",
       "0  Female        Married  \n",
       "1  Female      Unmarried  \n",
       "2  Female      Unmarried  \n",
       "3  Female        Married  \n",
       "4  Female      Unmarried  "
      ]
     },
     "execution_count": 12,
     "metadata": {},
     "output_type": "execute_result"
    }
   ],
   "source": [
    "df_emp = pd.merge(df_employeeData, df_employeeDetailsData[['employee_id', 'age', 'gender', 'marital_status']], on='employee_id', how='outer')\n",
    "df_emp.head()"
   ]
  },
  {
   "cell_type": "code",
   "execution_count": 14,
   "metadata": {
    "collapsed": false
   },
   "outputs": [
    {
     "data": {
      "text/plain": [
       "(14279, 14)"
      ]
     },
     "execution_count": 14,
     "metadata": {},
     "output_type": "execute_result"
    }
   ],
   "source": [
    "df_emp.shape"
   ]
  },
  {
   "cell_type": "code",
   "execution_count": 15,
   "metadata": {
    "collapsed": false
   },
   "outputs": [
    {
     "data": {
      "text/html": [
       "<div>\n",
       "<style scoped>\n",
       "    .dataframe tbody tr th:only-of-type {\n",
       "        vertical-align: middle;\n",
       "    }\n",
       "\n",
       "    .dataframe tbody tr th {\n",
       "        vertical-align: top;\n",
       "    }\n",
       "\n",
       "    .dataframe thead th {\n",
       "        text-align: right;\n",
       "    }\n",
       "</style>\n",
       "<table border=\"1\" class=\"dataframe\">\n",
       "  <thead>\n",
       "    <tr style=\"text-align: right;\">\n",
       "      <th></th>\n",
       "      <th>avg_monthly_hrs</th>\n",
       "      <th>department</th>\n",
       "      <th>filed_complaint</th>\n",
       "      <th>last_evaluation</th>\n",
       "      <th>n_projects</th>\n",
       "      <th>recently_promoted</th>\n",
       "      <th>salary</th>\n",
       "      <th>satisfaction</th>\n",
       "      <th>status</th>\n",
       "      <th>tenure</th>\n",
       "      <th>employee_id</th>\n",
       "      <th>age</th>\n",
       "      <th>gender</th>\n",
       "      <th>marital_status</th>\n",
       "    </tr>\n",
       "  </thead>\n",
       "  <tbody>\n",
       "    <tr>\n",
       "      <th>count</th>\n",
       "      <td>14150.000000</td>\n",
       "      <td>13443</td>\n",
       "      <td>2046.0</td>\n",
       "      <td>12663.000000</td>\n",
       "      <td>14150.000000</td>\n",
       "      <td>297.0</td>\n",
       "      <td>14150</td>\n",
       "      <td>14000.000000</td>\n",
       "      <td>14150</td>\n",
       "      <td>14000.000000</td>\n",
       "      <td>14279.000000</td>\n",
       "      <td>14274.000000</td>\n",
       "      <td>14274</td>\n",
       "      <td>14274</td>\n",
       "    </tr>\n",
       "    <tr>\n",
       "      <th>unique</th>\n",
       "      <td>NaN</td>\n",
       "      <td>12</td>\n",
       "      <td>NaN</td>\n",
       "      <td>NaN</td>\n",
       "      <td>NaN</td>\n",
       "      <td>NaN</td>\n",
       "      <td>3</td>\n",
       "      <td>NaN</td>\n",
       "      <td>2</td>\n",
       "      <td>NaN</td>\n",
       "      <td>NaN</td>\n",
       "      <td>NaN</td>\n",
       "      <td>2</td>\n",
       "      <td>2</td>\n",
       "    </tr>\n",
       "    <tr>\n",
       "      <th>top</th>\n",
       "      <td>NaN</td>\n",
       "      <td>D00-SS</td>\n",
       "      <td>NaN</td>\n",
       "      <td>NaN</td>\n",
       "      <td>NaN</td>\n",
       "      <td>NaN</td>\n",
       "      <td>low</td>\n",
       "      <td>NaN</td>\n",
       "      <td>Employed</td>\n",
       "      <td>NaN</td>\n",
       "      <td>NaN</td>\n",
       "      <td>NaN</td>\n",
       "      <td>Male</td>\n",
       "      <td>Unmarried</td>\n",
       "    </tr>\n",
       "    <tr>\n",
       "      <th>freq</th>\n",
       "      <td>NaN</td>\n",
       "      <td>3905</td>\n",
       "      <td>NaN</td>\n",
       "      <td>NaN</td>\n",
       "      <td>NaN</td>\n",
       "      <td>NaN</td>\n",
       "      <td>6906</td>\n",
       "      <td>NaN</td>\n",
       "      <td>10784</td>\n",
       "      <td>NaN</td>\n",
       "      <td>NaN</td>\n",
       "      <td>NaN</td>\n",
       "      <td>9399</td>\n",
       "      <td>7298</td>\n",
       "    </tr>\n",
       "    <tr>\n",
       "      <th>mean</th>\n",
       "      <td>199.994346</td>\n",
       "      <td>NaN</td>\n",
       "      <td>1.0</td>\n",
       "      <td>0.718399</td>\n",
       "      <td>3.778304</td>\n",
       "      <td>1.0</td>\n",
       "      <td>NaN</td>\n",
       "      <td>0.621212</td>\n",
       "      <td>NaN</td>\n",
       "      <td>3.499357</td>\n",
       "      <td>112083.497864</td>\n",
       "      <td>32.892532</td>\n",
       "      <td>NaN</td>\n",
       "      <td>NaN</td>\n",
       "    </tr>\n",
       "    <tr>\n",
       "      <th>std</th>\n",
       "      <td>50.833697</td>\n",
       "      <td>NaN</td>\n",
       "      <td>0.0</td>\n",
       "      <td>0.173108</td>\n",
       "      <td>1.250162</td>\n",
       "      <td>0.0</td>\n",
       "      <td>NaN</td>\n",
       "      <td>0.250482</td>\n",
       "      <td>NaN</td>\n",
       "      <td>1.462584</td>\n",
       "      <td>8748.714222</td>\n",
       "      <td>9.974750</td>\n",
       "      <td>NaN</td>\n",
       "      <td>NaN</td>\n",
       "    </tr>\n",
       "    <tr>\n",
       "      <th>min</th>\n",
       "      <td>49.000000</td>\n",
       "      <td>NaN</td>\n",
       "      <td>1.0</td>\n",
       "      <td>0.316175</td>\n",
       "      <td>1.000000</td>\n",
       "      <td>1.0</td>\n",
       "      <td>NaN</td>\n",
       "      <td>0.040058</td>\n",
       "      <td>NaN</td>\n",
       "      <td>2.000000</td>\n",
       "      <td>0.000000</td>\n",
       "      <td>22.000000</td>\n",
       "      <td>NaN</td>\n",
       "      <td>NaN</td>\n",
       "    </tr>\n",
       "    <tr>\n",
       "      <th>25%</th>\n",
       "      <td>155.000000</td>\n",
       "      <td>NaN</td>\n",
       "      <td>1.0</td>\n",
       "      <td>0.563711</td>\n",
       "      <td>3.000000</td>\n",
       "      <td>1.0</td>\n",
       "      <td>NaN</td>\n",
       "      <td>0.450356</td>\n",
       "      <td>NaN</td>\n",
       "      <td>3.000000</td>\n",
       "      <td>105774.500000</td>\n",
       "      <td>24.000000</td>\n",
       "      <td>NaN</td>\n",
       "      <td>NaN</td>\n",
       "    </tr>\n",
       "    <tr>\n",
       "      <th>50%</th>\n",
       "      <td>199.000000</td>\n",
       "      <td>NaN</td>\n",
       "      <td>1.0</td>\n",
       "      <td>0.724731</td>\n",
       "      <td>4.000000</td>\n",
       "      <td>1.0</td>\n",
       "      <td>NaN</td>\n",
       "      <td>0.652394</td>\n",
       "      <td>NaN</td>\n",
       "      <td>3.000000</td>\n",
       "      <td>111296.000000</td>\n",
       "      <td>29.000000</td>\n",
       "      <td>NaN</td>\n",
       "      <td>NaN</td>\n",
       "    </tr>\n",
       "    <tr>\n",
       "      <th>75%</th>\n",
       "      <td>245.000000</td>\n",
       "      <td>NaN</td>\n",
       "      <td>1.0</td>\n",
       "      <td>0.871409</td>\n",
       "      <td>5.000000</td>\n",
       "      <td>1.0</td>\n",
       "      <td>NaN</td>\n",
       "      <td>0.824925</td>\n",
       "      <td>NaN</td>\n",
       "      <td>4.000000</td>\n",
       "      <td>116653.500000</td>\n",
       "      <td>41.000000</td>\n",
       "      <td>NaN</td>\n",
       "      <td>NaN</td>\n",
       "    </tr>\n",
       "    <tr>\n",
       "      <th>max</th>\n",
       "      <td>310.000000</td>\n",
       "      <td>NaN</td>\n",
       "      <td>1.0</td>\n",
       "      <td>1.000000</td>\n",
       "      <td>7.000000</td>\n",
       "      <td>1.0</td>\n",
       "      <td>NaN</td>\n",
       "      <td>1.000000</td>\n",
       "      <td>NaN</td>\n",
       "      <td>10.000000</td>\n",
       "      <td>148988.000000</td>\n",
       "      <td>57.000000</td>\n",
       "      <td>NaN</td>\n",
       "      <td>NaN</td>\n",
       "    </tr>\n",
       "  </tbody>\n",
       "</table>\n",
       "</div>"
      ],
      "text/plain": [
       "        avg_monthly_hrs department  filed_complaint  last_evaluation  \\\n",
       "count      14150.000000      13443           2046.0     12663.000000   \n",
       "unique              NaN         12              NaN              NaN   \n",
       "top                 NaN     D00-SS              NaN              NaN   \n",
       "freq                NaN       3905              NaN              NaN   \n",
       "mean         199.994346        NaN              1.0         0.718399   \n",
       "std           50.833697        NaN              0.0         0.173108   \n",
       "min           49.000000        NaN              1.0         0.316175   \n",
       "25%          155.000000        NaN              1.0         0.563711   \n",
       "50%          199.000000        NaN              1.0         0.724731   \n",
       "75%          245.000000        NaN              1.0         0.871409   \n",
       "max          310.000000        NaN              1.0         1.000000   \n",
       "\n",
       "          n_projects  recently_promoted salary  satisfaction    status  \\\n",
       "count   14150.000000              297.0  14150  14000.000000     14150   \n",
       "unique           NaN                NaN      3           NaN         2   \n",
       "top              NaN                NaN    low           NaN  Employed   \n",
       "freq             NaN                NaN   6906           NaN     10784   \n",
       "mean        3.778304                1.0    NaN      0.621212       NaN   \n",
       "std         1.250162                0.0    NaN      0.250482       NaN   \n",
       "min         1.000000                1.0    NaN      0.040058       NaN   \n",
       "25%         3.000000                1.0    NaN      0.450356       NaN   \n",
       "50%         4.000000                1.0    NaN      0.652394       NaN   \n",
       "75%         5.000000                1.0    NaN      0.824925       NaN   \n",
       "max         7.000000                1.0    NaN      1.000000       NaN   \n",
       "\n",
       "              tenure    employee_id           age gender marital_status  \n",
       "count   14000.000000   14279.000000  14274.000000  14274          14274  \n",
       "unique           NaN            NaN           NaN      2              2  \n",
       "top              NaN            NaN           NaN   Male      Unmarried  \n",
       "freq             NaN            NaN           NaN   9399           7298  \n",
       "mean        3.499357  112083.497864     32.892532    NaN            NaN  \n",
       "std         1.462584    8748.714222      9.974750    NaN            NaN  \n",
       "min         2.000000       0.000000     22.000000    NaN            NaN  \n",
       "25%         3.000000  105774.500000     24.000000    NaN            NaN  \n",
       "50%         3.000000  111296.000000     29.000000    NaN            NaN  \n",
       "75%         4.000000  116653.500000     41.000000    NaN            NaN  \n",
       "max        10.000000  148988.000000     57.000000    NaN            NaN  "
      ]
     },
     "execution_count": 15,
     "metadata": {},
     "output_type": "execute_result"
    }
   ],
   "source": [
    "df_emp.describe(include='all')"
   ]
  },
  {
   "cell_type": "markdown",
   "metadata": {
    "collapsed": true
   },
   "source": [
    "Need to merge the __df_departmentData__ to the __df_emp__ , first we have to correct the IT data from df_emp."
   ]
  },
  {
   "cell_type": "code",
   "execution_count": 26,
   "metadata": {
    "collapsed": false
   },
   "outputs": [
    {
     "data": {
      "text/plain": [
       "array([None, 'D00-SS', 'D00-SP', 'D00-MT', 'D00-PD', 'D00-IT', 'D00-AD',\n",
       "       'D00-MN', 'D00-ENG', 'D00-PR', 'D00-TP', 'D00-FN', '-IT', nan],\n",
       "      dtype=object)"
      ]
     },
     "execution_count": 26,
     "metadata": {},
     "output_type": "execute_result"
    }
   ],
   "source": [
    "df_emp['department'].unique()"
   ]
  },
  {
   "cell_type": "code",
   "execution_count": 36,
   "metadata": {
    "collapsed": false
   },
   "outputs": [],
   "source": [
    "df_emp['department'] = df_emp['department'].replace(\"-IT\", \"D00-IT\")"
   ]
  },
  {
   "cell_type": "code",
   "execution_count": 37,
   "metadata": {
    "collapsed": false
   },
   "outputs": [
    {
     "data": {
      "text/plain": [
       "array([None, 'D00-SS', 'D00-SP', 'D00-MT', 'D00-PD', 'D00-IT', 'D00-AD',\n",
       "       'D00-MN', 'D00-ENG', 'D00-PR', 'D00-TP', 'D00-FN', nan],\n",
       "      dtype=object)"
      ]
     },
     "execution_count": 37,
     "metadata": {},
     "output_type": "execute_result"
    }
   ],
   "source": [
    "df_emp['department'].unique()"
   ]
  },
  {
   "cell_type": "markdown",
   "metadata": {},
   "source": [
    "Merge the Department column with respect to "
   ]
  },
  {
   "cell_type": "code",
   "execution_count": 40,
   "metadata": {
    "collapsed": false
   },
   "outputs": [
    {
     "data": {
      "text/html": [
       "<div>\n",
       "<style scoped>\n",
       "    .dataframe tbody tr th:only-of-type {\n",
       "        vertical-align: middle;\n",
       "    }\n",
       "\n",
       "    .dataframe tbody tr th {\n",
       "        vertical-align: top;\n",
       "    }\n",
       "\n",
       "    .dataframe thead th {\n",
       "        text-align: right;\n",
       "    }\n",
       "</style>\n",
       "<table border=\"1\" class=\"dataframe\">\n",
       "  <thead>\n",
       "    <tr style=\"text-align: right;\">\n",
       "      <th></th>\n",
       "      <th>avg_monthly_hrs</th>\n",
       "      <th>department</th>\n",
       "      <th>filed_complaint</th>\n",
       "      <th>last_evaluation</th>\n",
       "      <th>n_projects</th>\n",
       "      <th>recently_promoted</th>\n",
       "      <th>salary</th>\n",
       "      <th>satisfaction</th>\n",
       "      <th>status</th>\n",
       "      <th>tenure</th>\n",
       "      <th>employee_id</th>\n",
       "      <th>age</th>\n",
       "      <th>gender</th>\n",
       "      <th>marital_status</th>\n",
       "      <th>dept_id</th>\n",
       "      <th>dept_name</th>\n",
       "      <th>dept_head</th>\n",
       "    </tr>\n",
       "  </thead>\n",
       "  <tbody>\n",
       "    <tr>\n",
       "      <th>0</th>\n",
       "      <td>246.0</td>\n",
       "      <td>None</td>\n",
       "      <td>NaN</td>\n",
       "      <td>0.866838</td>\n",
       "      <td>6.0</td>\n",
       "      <td>NaN</td>\n",
       "      <td>medium</td>\n",
       "      <td>0.134415</td>\n",
       "      <td>Left</td>\n",
       "      <td>4.0</td>\n",
       "      <td>124467</td>\n",
       "      <td>42.0</td>\n",
       "      <td>Female</td>\n",
       "      <td>Married</td>\n",
       "      <td>NaN</td>\n",
       "      <td>NaN</td>\n",
       "      <td>NaN</td>\n",
       "    </tr>\n",
       "    <tr>\n",
       "      <th>1</th>\n",
       "      <td>134.0</td>\n",
       "      <td>None</td>\n",
       "      <td>NaN</td>\n",
       "      <td>0.555718</td>\n",
       "      <td>2.0</td>\n",
       "      <td>NaN</td>\n",
       "      <td>low</td>\n",
       "      <td>0.511041</td>\n",
       "      <td>Left</td>\n",
       "      <td>3.0</td>\n",
       "      <td>112210</td>\n",
       "      <td>23.0</td>\n",
       "      <td>Female</td>\n",
       "      <td>Unmarried</td>\n",
       "      <td>NaN</td>\n",
       "      <td>NaN</td>\n",
       "      <td>NaN</td>\n",
       "    </tr>\n",
       "    <tr>\n",
       "      <th>2</th>\n",
       "      <td>155.0</td>\n",
       "      <td>None</td>\n",
       "      <td>NaN</td>\n",
       "      <td>0.464598</td>\n",
       "      <td>2.0</td>\n",
       "      <td>NaN</td>\n",
       "      <td>medium</td>\n",
       "      <td>0.414451</td>\n",
       "      <td>Left</td>\n",
       "      <td>3.0</td>\n",
       "      <td>127792</td>\n",
       "      <td>23.0</td>\n",
       "      <td>Female</td>\n",
       "      <td>Unmarried</td>\n",
       "      <td>NaN</td>\n",
       "      <td>NaN</td>\n",
       "      <td>NaN</td>\n",
       "    </tr>\n",
       "    <tr>\n",
       "      <th>3</th>\n",
       "      <td>156.0</td>\n",
       "      <td>None</td>\n",
       "      <td>NaN</td>\n",
       "      <td>NaN</td>\n",
       "      <td>2.0</td>\n",
       "      <td>NaN</td>\n",
       "      <td>medium</td>\n",
       "      <td>0.465747</td>\n",
       "      <td>Left</td>\n",
       "      <td>3.0</td>\n",
       "      <td>128509</td>\n",
       "      <td>25.0</td>\n",
       "      <td>Female</td>\n",
       "      <td>Unmarried</td>\n",
       "      <td>NaN</td>\n",
       "      <td>NaN</td>\n",
       "      <td>NaN</td>\n",
       "    </tr>\n",
       "    <tr>\n",
       "      <th>4</th>\n",
       "      <td>167.0</td>\n",
       "      <td>None</td>\n",
       "      <td>NaN</td>\n",
       "      <td>0.880053</td>\n",
       "      <td>5.0</td>\n",
       "      <td>NaN</td>\n",
       "      <td>low</td>\n",
       "      <td>0.682140</td>\n",
       "      <td>Employed</td>\n",
       "      <td>3.0</td>\n",
       "      <td>0</td>\n",
       "      <td>NaN</td>\n",
       "      <td>NaN</td>\n",
       "      <td>NaN</td>\n",
       "      <td>NaN</td>\n",
       "      <td>NaN</td>\n",
       "      <td>NaN</td>\n",
       "    </tr>\n",
       "    <tr>\n",
       "      <th>5</th>\n",
       "      <td>233.0</td>\n",
       "      <td>None</td>\n",
       "      <td>NaN</td>\n",
       "      <td>0.965382</td>\n",
       "      <td>5.0</td>\n",
       "      <td>NaN</td>\n",
       "      <td>medium</td>\n",
       "      <td>0.962314</td>\n",
       "      <td>Left</td>\n",
       "      <td>5.0</td>\n",
       "      <td>125077</td>\n",
       "      <td>22.0</td>\n",
       "      <td>Female</td>\n",
       "      <td>Unmarried</td>\n",
       "      <td>NaN</td>\n",
       "      <td>NaN</td>\n",
       "      <td>NaN</td>\n",
       "    </tr>\n",
       "    <tr>\n",
       "      <th>6</th>\n",
       "      <td>260.0</td>\n",
       "      <td>None</td>\n",
       "      <td>NaN</td>\n",
       "      <td>1.000000</td>\n",
       "      <td>5.0</td>\n",
       "      <td>NaN</td>\n",
       "      <td>low</td>\n",
       "      <td>0.808455</td>\n",
       "      <td>Left</td>\n",
       "      <td>5.0</td>\n",
       "      <td>128184</td>\n",
       "      <td>23.0</td>\n",
       "      <td>Female</td>\n",
       "      <td>Unmarried</td>\n",
       "      <td>NaN</td>\n",
       "      <td>NaN</td>\n",
       "      <td>NaN</td>\n",
       "    </tr>\n",
       "    <tr>\n",
       "      <th>7</th>\n",
       "      <td>153.0</td>\n",
       "      <td>None</td>\n",
       "      <td>NaN</td>\n",
       "      <td>NaN</td>\n",
       "      <td>2.0</td>\n",
       "      <td>NaN</td>\n",
       "      <td>low</td>\n",
       "      <td>0.455101</td>\n",
       "      <td>Left</td>\n",
       "      <td>3.0</td>\n",
       "      <td>121337</td>\n",
       "      <td>25.0</td>\n",
       "      <td>Female</td>\n",
       "      <td>Unmarried</td>\n",
       "      <td>NaN</td>\n",
       "      <td>NaN</td>\n",
       "      <td>NaN</td>\n",
       "    </tr>\n",
       "    <tr>\n",
       "      <th>8</th>\n",
       "      <td>294.0</td>\n",
       "      <td>None</td>\n",
       "      <td>NaN</td>\n",
       "      <td>0.587699</td>\n",
       "      <td>3.0</td>\n",
       "      <td>NaN</td>\n",
       "      <td>low</td>\n",
       "      <td>0.760390</td>\n",
       "      <td>Left</td>\n",
       "      <td>4.0</td>\n",
       "      <td>119768</td>\n",
       "      <td>22.0</td>\n",
       "      <td>Female</td>\n",
       "      <td>Unmarried</td>\n",
       "      <td>NaN</td>\n",
       "      <td>NaN</td>\n",
       "      <td>NaN</td>\n",
       "    </tr>\n",
       "    <tr>\n",
       "      <th>9</th>\n",
       "      <td>246.0</td>\n",
       "      <td>None</td>\n",
       "      <td>NaN</td>\n",
       "      <td>0.884090</td>\n",
       "      <td>6.0</td>\n",
       "      <td>NaN</td>\n",
       "      <td>medium</td>\n",
       "      <td>0.131505</td>\n",
       "      <td>Left</td>\n",
       "      <td>4.0</td>\n",
       "      <td>115133</td>\n",
       "      <td>34.0</td>\n",
       "      <td>Female</td>\n",
       "      <td>Married</td>\n",
       "      <td>NaN</td>\n",
       "      <td>NaN</td>\n",
       "      <td>NaN</td>\n",
       "    </tr>\n",
       "  </tbody>\n",
       "</table>\n",
       "</div>"
      ],
      "text/plain": [
       "   avg_monthly_hrs department  filed_complaint  last_evaluation  n_projects  \\\n",
       "0            246.0       None              NaN         0.866838         6.0   \n",
       "1            134.0       None              NaN         0.555718         2.0   \n",
       "2            155.0       None              NaN         0.464598         2.0   \n",
       "3            156.0       None              NaN              NaN         2.0   \n",
       "4            167.0       None              NaN         0.880053         5.0   \n",
       "5            233.0       None              NaN         0.965382         5.0   \n",
       "6            260.0       None              NaN         1.000000         5.0   \n",
       "7            153.0       None              NaN              NaN         2.0   \n",
       "8            294.0       None              NaN         0.587699         3.0   \n",
       "9            246.0       None              NaN         0.884090         6.0   \n",
       "\n",
       "   recently_promoted  salary  satisfaction    status  tenure  employee_id  \\\n",
       "0                NaN  medium      0.134415      Left     4.0       124467   \n",
       "1                NaN     low      0.511041      Left     3.0       112210   \n",
       "2                NaN  medium      0.414451      Left     3.0       127792   \n",
       "3                NaN  medium      0.465747      Left     3.0       128509   \n",
       "4                NaN     low      0.682140  Employed     3.0            0   \n",
       "5                NaN  medium      0.962314      Left     5.0       125077   \n",
       "6                NaN     low      0.808455      Left     5.0       128184   \n",
       "7                NaN     low      0.455101      Left     3.0       121337   \n",
       "8                NaN     low      0.760390      Left     4.0       119768   \n",
       "9                NaN  medium      0.131505      Left     4.0       115133   \n",
       "\n",
       "    age  gender marital_status dept_id dept_name dept_head  \n",
       "0  42.0  Female        Married     NaN       NaN       NaN  \n",
       "1  23.0  Female      Unmarried     NaN       NaN       NaN  \n",
       "2  23.0  Female      Unmarried     NaN       NaN       NaN  \n",
       "3  25.0  Female      Unmarried     NaN       NaN       NaN  \n",
       "4   NaN     NaN            NaN     NaN       NaN       NaN  \n",
       "5  22.0  Female      Unmarried     NaN       NaN       NaN  \n",
       "6  23.0  Female      Unmarried     NaN       NaN       NaN  \n",
       "7  25.0  Female      Unmarried     NaN       NaN       NaN  \n",
       "8  22.0  Female      Unmarried     NaN       NaN       NaN  \n",
       "9  34.0  Female        Married     NaN       NaN       NaN  "
      ]
     },
     "execution_count": 40,
     "metadata": {},
     "output_type": "execute_result"
    }
   ],
   "source": [
    "df = df_emp.merge(df_departmentData, how='outer', left_on='department', right_on='dept_id')\n",
    "df.head(10)"
   ]
  },
  {
   "cell_type": "code",
   "execution_count": 44,
   "metadata": {
    "collapsed": false
   },
   "outputs": [
    {
     "data": {
      "text/plain": [
       "Index(['avg_monthly_hrs', 'department', 'filed_complaint', 'last_evaluation',\n",
       "       'n_projects', 'recently_promoted', 'salary', 'satisfaction', 'status',\n",
       "       'tenure', 'employee_id', 'age', 'gender', 'marital_status', 'dept_id',\n",
       "       'dept_name', 'dept_head'],\n",
       "      dtype='object')"
      ]
     },
     "execution_count": 44,
     "metadata": {},
     "output_type": "execute_result"
    }
   ],
   "source": [
    "df.columns"
   ]
  },
  {
   "cell_type": "code",
   "execution_count": 43,
   "metadata": {
    "collapsed": false
   },
   "outputs": [
    {
     "data": {
      "text/plain": [
       "(14279, 17)"
      ]
     },
     "execution_count": 43,
     "metadata": {},
     "output_type": "execute_result"
    }
   ],
   "source": [
    "df.shape"
   ]
  },
  {
   "cell_type": "markdown",
   "metadata": {},
   "source": [
    "We have to drop the duplicate column __department__ from the data frame."
   ]
  },
  {
   "cell_type": "code",
   "execution_count": 47,
   "metadata": {
    "collapsed": false
   },
   "outputs": [
    {
     "data": {
      "text/plain": [
       "(14279,)"
      ]
     },
     "execution_count": 47,
     "metadata": {},
     "output_type": "execute_result"
    }
   ],
   "source": [
    "df['department'].shape"
   ]
  },
  {
   "cell_type": "code",
   "execution_count": 51,
   "metadata": {
    "collapsed": false
   },
   "outputs": [],
   "source": [
    "df = df.drop('department', 1)"
   ]
  },
  {
   "cell_type": "code",
   "execution_count": 52,
   "metadata": {
    "collapsed": false
   },
   "outputs": [
    {
     "data": {
      "text/html": [
       "<div>\n",
       "<style scoped>\n",
       "    .dataframe tbody tr th:only-of-type {\n",
       "        vertical-align: middle;\n",
       "    }\n",
       "\n",
       "    .dataframe tbody tr th {\n",
       "        vertical-align: top;\n",
       "    }\n",
       "\n",
       "    .dataframe thead th {\n",
       "        text-align: right;\n",
       "    }\n",
       "</style>\n",
       "<table border=\"1\" class=\"dataframe\">\n",
       "  <thead>\n",
       "    <tr style=\"text-align: right;\">\n",
       "      <th></th>\n",
       "      <th>avg_monthly_hrs</th>\n",
       "      <th>filed_complaint</th>\n",
       "      <th>last_evaluation</th>\n",
       "      <th>n_projects</th>\n",
       "      <th>recently_promoted</th>\n",
       "      <th>salary</th>\n",
       "      <th>satisfaction</th>\n",
       "      <th>status</th>\n",
       "      <th>tenure</th>\n",
       "      <th>employee_id</th>\n",
       "      <th>age</th>\n",
       "      <th>gender</th>\n",
       "      <th>marital_status</th>\n",
       "      <th>dept_id</th>\n",
       "      <th>dept_name</th>\n",
       "      <th>dept_head</th>\n",
       "    </tr>\n",
       "  </thead>\n",
       "  <tbody>\n",
       "    <tr>\n",
       "      <th>0</th>\n",
       "      <td>246.0</td>\n",
       "      <td>NaN</td>\n",
       "      <td>0.866838</td>\n",
       "      <td>6.0</td>\n",
       "      <td>NaN</td>\n",
       "      <td>medium</td>\n",
       "      <td>0.134415</td>\n",
       "      <td>Left</td>\n",
       "      <td>4.0</td>\n",
       "      <td>124467</td>\n",
       "      <td>42.0</td>\n",
       "      <td>Female</td>\n",
       "      <td>Married</td>\n",
       "      <td>NaN</td>\n",
       "      <td>NaN</td>\n",
       "      <td>NaN</td>\n",
       "    </tr>\n",
       "    <tr>\n",
       "      <th>1</th>\n",
       "      <td>134.0</td>\n",
       "      <td>NaN</td>\n",
       "      <td>0.555718</td>\n",
       "      <td>2.0</td>\n",
       "      <td>NaN</td>\n",
       "      <td>low</td>\n",
       "      <td>0.511041</td>\n",
       "      <td>Left</td>\n",
       "      <td>3.0</td>\n",
       "      <td>112210</td>\n",
       "      <td>23.0</td>\n",
       "      <td>Female</td>\n",
       "      <td>Unmarried</td>\n",
       "      <td>NaN</td>\n",
       "      <td>NaN</td>\n",
       "      <td>NaN</td>\n",
       "    </tr>\n",
       "    <tr>\n",
       "      <th>2</th>\n",
       "      <td>155.0</td>\n",
       "      <td>NaN</td>\n",
       "      <td>0.464598</td>\n",
       "      <td>2.0</td>\n",
       "      <td>NaN</td>\n",
       "      <td>medium</td>\n",
       "      <td>0.414451</td>\n",
       "      <td>Left</td>\n",
       "      <td>3.0</td>\n",
       "      <td>127792</td>\n",
       "      <td>23.0</td>\n",
       "      <td>Female</td>\n",
       "      <td>Unmarried</td>\n",
       "      <td>NaN</td>\n",
       "      <td>NaN</td>\n",
       "      <td>NaN</td>\n",
       "    </tr>\n",
       "    <tr>\n",
       "      <th>3</th>\n",
       "      <td>156.0</td>\n",
       "      <td>NaN</td>\n",
       "      <td>NaN</td>\n",
       "      <td>2.0</td>\n",
       "      <td>NaN</td>\n",
       "      <td>medium</td>\n",
       "      <td>0.465747</td>\n",
       "      <td>Left</td>\n",
       "      <td>3.0</td>\n",
       "      <td>128509</td>\n",
       "      <td>25.0</td>\n",
       "      <td>Female</td>\n",
       "      <td>Unmarried</td>\n",
       "      <td>NaN</td>\n",
       "      <td>NaN</td>\n",
       "      <td>NaN</td>\n",
       "    </tr>\n",
       "    <tr>\n",
       "      <th>4</th>\n",
       "      <td>167.0</td>\n",
       "      <td>NaN</td>\n",
       "      <td>0.880053</td>\n",
       "      <td>5.0</td>\n",
       "      <td>NaN</td>\n",
       "      <td>low</td>\n",
       "      <td>0.682140</td>\n",
       "      <td>Employed</td>\n",
       "      <td>3.0</td>\n",
       "      <td>0</td>\n",
       "      <td>NaN</td>\n",
       "      <td>NaN</td>\n",
       "      <td>NaN</td>\n",
       "      <td>NaN</td>\n",
       "      <td>NaN</td>\n",
       "      <td>NaN</td>\n",
       "    </tr>\n",
       "  </tbody>\n",
       "</table>\n",
       "</div>"
      ],
      "text/plain": [
       "   avg_monthly_hrs  filed_complaint  last_evaluation  n_projects  \\\n",
       "0            246.0              NaN         0.866838         6.0   \n",
       "1            134.0              NaN         0.555718         2.0   \n",
       "2            155.0              NaN         0.464598         2.0   \n",
       "3            156.0              NaN              NaN         2.0   \n",
       "4            167.0              NaN         0.880053         5.0   \n",
       "\n",
       "   recently_promoted  salary  satisfaction    status  tenure  employee_id  \\\n",
       "0                NaN  medium      0.134415      Left     4.0       124467   \n",
       "1                NaN     low      0.511041      Left     3.0       112210   \n",
       "2                NaN  medium      0.414451      Left     3.0       127792   \n",
       "3                NaN  medium      0.465747      Left     3.0       128509   \n",
       "4                NaN     low      0.682140  Employed     3.0            0   \n",
       "\n",
       "    age  gender marital_status dept_id dept_name dept_head  \n",
       "0  42.0  Female        Married     NaN       NaN       NaN  \n",
       "1  23.0  Female      Unmarried     NaN       NaN       NaN  \n",
       "2  23.0  Female      Unmarried     NaN       NaN       NaN  \n",
       "3  25.0  Female      Unmarried     NaN       NaN       NaN  \n",
       "4   NaN     NaN            NaN     NaN       NaN       NaN  "
      ]
     },
     "execution_count": 52,
     "metadata": {},
     "output_type": "execute_result"
    }
   ],
   "source": [
    "df.head()"
   ]
  },
  {
   "cell_type": "code",
   "execution_count": 53,
   "metadata": {
    "collapsed": false
   },
   "outputs": [
    {
     "data": {
      "text/plain": [
       "(14279, 16)"
      ]
     },
     "execution_count": 53,
     "metadata": {},
     "output_type": "execute_result"
    }
   ],
   "source": [
    "df.shape"
   ]
  },
  {
   "cell_type": "code",
   "execution_count": 55,
   "metadata": {
    "collapsed": false
   },
   "outputs": [
    {
     "name": "stdout",
     "output_type": "stream",
     "text": [
      "<class 'pandas.core.frame.DataFrame'>\n",
      "Int64Index: 14279 entries, 0 to 14278\n",
      "Data columns (total 16 columns):\n",
      "avg_monthly_hrs      14150 non-null float64\n",
      "filed_complaint      2046 non-null float64\n",
      "last_evaluation      12663 non-null float64\n",
      "n_projects           14150 non-null float64\n",
      "recently_promoted    297 non-null float64\n",
      "salary               14150 non-null object\n",
      "satisfaction         14000 non-null float64\n",
      "status               14150 non-null object\n",
      "tenure               14000 non-null float64\n",
      "employee_id          14279 non-null int64\n",
      "age                  14274 non-null float64\n",
      "gender               14274 non-null object\n",
      "marital_status       14274 non-null object\n",
      "dept_id              13443 non-null object\n",
      "dept_name            13443 non-null object\n",
      "dept_head            13443 non-null object\n",
      "dtypes: float64(8), int64(1), object(7)\n",
      "memory usage: 2.5+ MB\n"
     ]
    }
   ],
   "source": [
    "df.info()"
   ]
  },
  {
   "cell_type": "markdown",
   "metadata": {},
   "source": [
    "__Check missing data__"
   ]
  },
  {
   "cell_type": "code",
   "execution_count": 56,
   "metadata": {
    "collapsed": false
   },
   "outputs": [
    {
     "name": "stdout",
     "output_type": "stream",
     "text": [
      "                   Total   Percent\n",
      "recently_promoted  13982  0.979200\n",
      "filed_complaint    12233  0.856713\n",
      "last_evaluation     1616  0.113173\n",
      "dept_head            836  0.058548\n",
      "dept_name            836  0.058548\n",
      "dept_id              836  0.058548\n",
      "tenure               279  0.019539\n",
      "satisfaction         279  0.019539\n",
      "status               129  0.009034\n",
      "salary               129  0.009034\n",
      "n_projects           129  0.009034\n",
      "avg_monthly_hrs      129  0.009034\n",
      "marital_status         5  0.000350\n",
      "gender                 5  0.000350\n",
      "age                    5  0.000350\n",
      "employee_id            0  0.000000\n"
     ]
    }
   ],
   "source": [
    "#missing data\n",
    "total = df.isnull().sum().sort_values(ascending=False)\n",
    "percent = (df.isnull().sum()/df.isnull().count()).sort_values(ascending=False)\n",
    "missing_data = pd.concat([total, percent], axis=1, keys=['Total', 'Percent'])\n",
    "missing_data.head(20)\n",
    "print(missing_data)"
   ]
  },
  {
   "cell_type": "code",
   "execution_count": null,
   "metadata": {
    "collapsed": false
   },
   "outputs": [],
   "source": []
  },
  {
   "cell_type": "markdown",
   "metadata": {},
   "source": [
    "We are generating Preprofiling report to get a brief overview of our data frame"
   ]
  },
  {
   "cell_type": "code",
   "execution_count": 60,
   "metadata": {
    "collapsed": true
   },
   "outputs": [],
   "source": [
    "import pandas_profiling\n",
    "profile = pandas_profiling.ProfileReport(df)\n",
    "profile.to_file(outputfile=\"attritionData.html\")"
   ]
  },
  {
   "cell_type": "code",
   "execution_count": 72,
   "metadata": {
    "collapsed": false
   },
   "outputs": [
    {
     "data": {
      "text/plain": [
       "199.99434628975266"
      ]
     },
     "execution_count": 72,
     "metadata": {},
     "output_type": "execute_result"
    }
   ],
   "source": [
    "df['avg_monthly_hrs'].mean()"
   ]
  },
  {
   "cell_type": "code",
   "execution_count": 68,
   "metadata": {
    "collapsed": false
   },
   "outputs": [
    {
     "data": {
      "text/plain": [
       "29.0"
      ]
     },
     "execution_count": 68,
     "metadata": {},
     "output_type": "execute_result"
    }
   ],
   "source": [
    "df['age'].median()"
   ]
  },
  {
   "cell_type": "code",
   "execution_count": 71,
   "metadata": {
    "collapsed": false
   },
   "outputs": [
    {
     "data": {
      "text/plain": [
       "0.652394"
      ]
     },
     "execution_count": 71,
     "metadata": {},
     "output_type": "execute_result"
    }
   ],
   "source": [
    "df['satisfaction'].median()"
   ]
  },
  {
   "cell_type": "code",
   "execution_count": null,
   "metadata": {
    "collapsed": true
   },
   "outputs": [],
   "source": []
  },
  {
   "cell_type": "code",
   "execution_count": null,
   "metadata": {
    "collapsed": true
   },
   "outputs": [],
   "source": []
  },
  {
   "cell_type": "code",
   "execution_count": null,
   "metadata": {
    "collapsed": true
   },
   "outputs": [],
   "source": []
  },
  {
   "cell_type": "code",
   "execution_count": null,
   "metadata": {
    "collapsed": true
   },
   "outputs": [],
   "source": []
  },
  {
   "cell_type": "code",
   "execution_count": null,
   "metadata": {
    "collapsed": true
   },
   "outputs": [],
   "source": []
  },
  {
   "cell_type": "code",
   "execution_count": null,
   "metadata": {
    "collapsed": true
   },
   "outputs": [],
   "source": []
  },
  {
   "cell_type": "code",
   "execution_count": null,
   "metadata": {
    "collapsed": true
   },
   "outputs": [],
   "source": []
  }
 ],
 "metadata": {
  "anaconda-cloud": {},
  "kernelspec": {
   "display_name": "Python [Root]",
   "language": "python",
   "name": "Python [Root]"
  },
  "language_info": {
   "codemirror_mode": {
    "name": "ipython",
    "version": 3
   },
   "file_extension": ".py",
   "mimetype": "text/x-python",
   "name": "python",
   "nbconvert_exporter": "python",
   "pygments_lexer": "ipython3",
   "version": "3.5.6"
  }
 },
 "nbformat": 4,
 "nbformat_minor": 0
}
