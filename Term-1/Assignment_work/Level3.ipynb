{
 "cells": [
  {
   "cell_type": "markdown",
   "metadata": {},
   "source": [
    "<img src = 'https://github.com/insaid2018/Term-1/blob/master/Images/INSAID_Full%20Logo.png?raw=true' width=\"240\" height=\"360\">\n",
    "# __Assignment: Numpy and Pandas__\n",
    "### Level: 3"
   ]
  },
  {
   "cell_type": "markdown",
   "metadata": {},
   "source": [
    "### 1. Find all the indices of peaks in a 1D numpy array a. Peaks are points surrounded by smaller values on both sides."
   ]
  },
  {
   "cell_type": "code",
   "execution_count": 59,
   "metadata": {},
   "outputs": [
    {
     "name": "stdout",
     "output_type": "stream",
     "text": [
      "[2 7 1 3 7 1 2 6 0 1 3 7 6]\n",
      "[-2  2  0 -2  2  0 -2  2  0  0 -2]\n",
      "[ 1  4  7 11]\n"
     ]
    }
   ],
   "source": [
    "import numpy as np\n",
    "n = np.array([2, 7, 1, 3, 7, 1, 2, 6, 0, 1, 3, 7, 6])\n",
    "def generate():\n",
    "    # your code here\n",
    "    print(n)\n",
    "    doublediff = np.diff(np.sign(np.diff(n)))\n",
    "    print(doublediff)\n",
    "    peak_locations = np.where(doublediff == -2)[0] + 1\n",
    "    print(peak_locations)\n",
    "    return None\n",
    "generate()"
   ]
  },
  {
   "attachments": {
    "image.png": {
     "image/png": "[encoded data removed]"
    }
   },
   "cell_type": "markdown",
   "metadata": {},
   "source": [
    "### 2. Create a 8x8 matrix and fill it with a chessboard pattern as shown in the below figure.\n",
    "![image.png](attachment:image.png)"
   ]
  },
  {
   "cell_type": "code",
   "execution_count": 11,
   "metadata": {},
   "outputs": [
    {
     "name": "stdout",
     "output_type": "stream",
     "text": [
      "[[0 1 0 1 0 1 0 1]\n",
      " [1 0 1 0 1 0 1 0]\n",
      " [0 1 0 1 0 1 0 1]\n",
      " [1 0 1 0 1 0 1 0]\n",
      " [0 1 0 1 0 1 0 1]\n",
      " [1 0 1 0 1 0 1 0]\n",
      " [0 1 0 1 0 1 0 1]\n",
      " [1 0 1 0 1 0 1 0]]\n"
     ]
    }
   ],
   "source": [
    "import numpy as np\n",
    "def generate():\n",
    "    # your code\n",
    "    Z = np.zeros((8,8), dtype=int)\n",
    "    #print(Z)\n",
    "    Z[1::2,::2] = 1\n",
    "    #print(Z)\n",
    "    Z[::2,1::2] = 1\n",
    "    print(Z)\n",
    "    return None\n",
    "generate()"
   ]
  },
  {
   "cell_type": "markdown",
   "metadata": {},
   "source": [
    "### 3. Generate one hot encodings ( for each unique value in the array create dummy binary variables ) for a given array. (To know more about one hot encoding, here is a link: [One hot encoding](https://www.pittfagan.com/blog/2016/05/29/one-hot-encoding-visual-example/))"
   ]
  },
  {
   "cell_type": "code",
   "execution_count": 26,
   "metadata": {},
   "outputs": [
    {
     "name": "stdout",
     "output_type": "stream",
     "text": [
      "[2 3 2 2 2 1]\n",
      "[1 2 3]\n",
      "[[0. 1. 0.]\n",
      " [0. 0. 1.]\n",
      " [0. 1. 0.]\n",
      " [0. 1. 0.]\n",
      " [0. 1. 0.]\n",
      " [1. 0. 0.]]\n"
     ]
    }
   ],
   "source": [
    "import numpy as np\n",
    "np.random.seed(101) \n",
    "arr = np.random.randint(1,4, size=6)\n",
    "print(arr)\n",
    "def generate(arr):\n",
    "    # your code here\n",
    "    uniq = np.unique(arr)\n",
    "    print(uniq)\n",
    "    out = np.zeros((arr.shape[0], uniq.shape[0]))\n",
    "    for i, k in enumerate(arr):\n",
    "        out[i, k-1] = 1\n",
    "    print(out)\n",
    "    return None\n",
    "generate(arr)"
   ]
  },
  {
   "cell_type": "markdown",
   "metadata": {},
   "source": [
    "### 4.  Write a Python program to display all the dates for the month of April, 1994. Also print number of weekdays in April 1994. Also check if 7th April was a weekday or not. Return True if it was a weekday."
   ]
  },
  {
   "cell_type": "code",
   "execution_count": 32,
   "metadata": {},
   "outputs": [
    {
     "name": "stdout",
     "output_type": "stream",
     "text": [
      "April, 1994\n",
      "['1994-04-01' '1994-04-02' '1994-04-03' '1994-04-04' '1994-04-05'\n",
      " '1994-04-06' '1994-04-07' '1994-04-08' '1994-04-09' '1994-04-10'\n",
      " '1994-04-11' '1994-04-12' '1994-04-13' '1994-04-14' '1994-04-15'\n",
      " '1994-04-16' '1994-04-17' '1994-04-18' '1994-04-19' '1994-04-20'\n",
      " '1994-04-21' '1994-04-22' '1994-04-23' '1994-04-24' '1994-04-25'\n",
      " '1994-04-26' '1994-04-27' '1994-04-28' '1994-04-29' '1994-04-30']\n",
      "21\n"
     ]
    },
    {
     "data": {
      "text/plain": [
       "True"
      ]
     },
     "execution_count": 32,
     "metadata": {},
     "output_type": "execute_result"
    }
   ],
   "source": [
    "import numpy as np\n",
    "def generate():\n",
    "    # your code\n",
    "    print('April, 1994')\n",
    "    print(np.arange('1994-04', '1994-05', dtype='datetime64[D]'))\n",
    "    print(np.busday_count('1994-04', '1994-05'))\n",
    "    return np.is_busday(np.datetime64('1994-04-07')) # True if 7th april 1994 was a weekday.\n",
    "generate()"
   ]
  },
  {
   "cell_type": "markdown",
   "metadata": {},
   "source": [
    "### 5. Create a 5*5  array with 1 on the border and 2 inside. Now pad this array with a two layer border (filled with 7's) to get an array named \"nyp\". Return the inner product of \"nyp\" with itself."
   ]
  },
  {
   "cell_type": "code",
   "execution_count": 44,
   "metadata": {},
   "outputs": [
    {
     "name": "stdout",
     "output_type": "stream",
     "text": [
      "5*5 ones matrix\n",
      "[[1. 1. 1. 1. 1.]\n",
      " [1. 1. 1. 1. 1.]\n",
      " [1. 1. 1. 1. 1.]\n",
      " [1. 1. 1. 1. 1.]\n",
      " [1. 1. 1. 1. 1.]]\n",
      "1 on border and 2 inside\n",
      "[[1. 1. 1. 1. 1.]\n",
      " [1. 2. 2. 2. 1.]\n",
      " [1. 2. 2. 2. 1.]\n",
      " [1. 2. 2. 2. 1.]\n",
      " [1. 1. 1. 1. 1.]]\n",
      "7 on border 2 layers\n"
     ]
    },
    {
     "data": {
      "text/plain": [
       "array([[7., 7., 7., 7., 7., 7., 7., 7., 7.],\n",
       "       [7., 7., 7., 7., 7., 7., 7., 7., 7.],\n",
       "       [7., 7., 1., 1., 1., 1., 1., 7., 7.],\n",
       "       [7., 7., 1., 2., 2., 2., 1., 7., 7.],\n",
       "       [7., 7., 1., 2., 2., 2., 1., 7., 7.],\n",
       "       [7., 7., 1., 2., 2., 2., 1., 7., 7.],\n",
       "       [7., 7., 1., 1., 1., 1., 1., 7., 7.],\n",
       "       [7., 7., 7., 7., 7., 7., 7., 7., 7.],\n",
       "       [7., 7., 7., 7., 7., 7., 7., 7., 7.]])"
      ]
     },
     "execution_count": 44,
     "metadata": {},
     "output_type": "execute_result"
    }
   ],
   "source": [
    "import numpy as np\n",
    "def generate():\n",
    "    # your code here\n",
    "    print(\"5*5 ones matrix\")\n",
    "    X = np.ones((5,5))\n",
    "    print(X)\n",
    "    print(\"1 on border and 2 inside\")\n",
    "    X[1:-1, 1:-1] = 2\n",
    "    print(X)\n",
    "    print(\"7 on border 2 layers\")\n",
    "    nyp = np.pad(X, pad_width=2, mode='constant', constant_values=7)\n",
    "    return nyp #he inner product of \"nyp\" with itself.\n",
    "generate()"
   ]
  },
  {
   "cell_type": "markdown",
   "metadata": {},
   "source": [
    "### 6. Given a dataframe df with an integer column 'int', for each value, count the difference back to the previous 7 (or the start of the Series, whichever is closer).  Make this a new column 'A'."
   ]
  },
  {
   "cell_type": "code",
   "execution_count": 49,
   "metadata": {},
   "outputs": [
    {
     "name": "stdout",
     "output_type": "stream",
     "text": [
      "   int\n",
      "0    7\n",
      "1    2\n",
      "2    0\n",
      "3    7\n",
      "4    4\n",
      "5    2\n",
      "6    5\n",
      "7    7\n",
      "8    3\n",
      "9    5\n",
      "[-1  0  3  7]\n",
      "[0 1 2 3 4 5 6 7 8 9]\n",
      "0    0\n",
      "1    1\n",
      "2    2\n",
      "3    0\n",
      "4    1\n",
      "5    2\n",
      "6    3\n",
      "7    0\n",
      "8    1\n",
      "9    2\n",
      "Name: Y, dtype: int64\n"
     ]
    }
   ],
   "source": [
    "import pandas as pd\n",
    "df = pd.DataFrame({'int': [7, 2, 0, 7, 4, 2, 5, 7, 3, 5]})\n",
    "def generate():\n",
    "    # your code here\n",
    "    print(df)\n",
    "    izero = np.r_[-1, (df['int'] == 7).nonzero()[0]]\n",
    "    print(izero)\n",
    "    idx = np.arange(len(df))\n",
    "    print(idx)\n",
    "    df['Y'] = idx - izero[np.searchsorted(izero - 1, idx) -1]\n",
    "    print(df['Y'])\n",
    "    return # the new coloumn 'A'\n",
    "generate()"
   ]
  },
  {
   "cell_type": "markdown",
   "metadata": {},
   "source": [
    "### 7. Create the three DataFrames (data 1,data 2 and data3) based on the given raw data. Join data1 and data2 along rows to form data_all_row. Merge data_all_row and data3 along the subject_id value to form merge1. Merge all values in data1 and data2, with matching records from both sides where available to form merge2. Print out merge1, merge2."
   ]
  },
  {
   "cell_type": "code",
   "execution_count": 53,
   "metadata": {},
   "outputs": [
    {
     "name": "stdout",
     "output_type": "stream",
     "text": [
      "  subject_id first_name last_name\n",
      "0          1       Alex  Anderson\n",
      "1          2        Amy  Ackerman\n",
      "2          3      Allen       Ali\n",
      "3          4      Alice      Aoni\n",
      "4          5     Ayoung   Atiches\n",
      "0          4      Billy    Bonder\n",
      "1          5      Brian     Black\n",
      "2          6       Bran   Balwner\n",
      "3          7      Bryce     Brice\n",
      "4          8      Betty    Btisan\n",
      "  subject_id first_name last_name  test_id\n",
      "0          1       Alex  Anderson       51\n",
      "1          2        Amy  Ackerman       15\n",
      "2          3      Allen       Ali       15\n",
      "3          4      Alice      Aoni       61\n",
      "4          4      Billy    Bonder       61\n",
      "5          5     Ayoung   Atiches       16\n",
      "6          5      Brian     Black       16\n",
      "7          7      Bryce     Brice       14\n",
      "8          8      Betty    Btisan       15\n",
      "  subject_id first_name_x last_name_x first_name_y last_name_y\n",
      "0          1         Alex    Anderson          NaN         NaN\n",
      "1          2          Amy    Ackerman          NaN         NaN\n",
      "2          3        Allen         Ali          NaN         NaN\n",
      "3          4        Alice        Aoni        Billy      Bonder\n",
      "4          5       Ayoung     Atiches        Brian       Black\n",
      "5          6          NaN         NaN         Bran     Balwner\n",
      "6          7          NaN         NaN        Bryce       Brice\n",
      "7          8          NaN         NaN        Betty      Btisan\n"
     ]
    }
   ],
   "source": [
    "import pandas as pd\n",
    "raw_data_1 = {\n",
    "        'subject_id': ['1', '2', '3', '4', '5'],\n",
    "        'first_name': ['Alex', 'Amy', 'Allen', 'Alice', 'Ayoung'], \n",
    "        'last_name': ['Anderson', 'Ackerman', 'Ali', 'Aoni', 'Atiches']}\n",
    "\n",
    "raw_data_2 = {\n",
    "        'subject_id': ['4', '5', '6', '7', '8'],\n",
    "        'first_name': ['Billy', 'Brian', 'Bran', 'Bryce', 'Betty'], \n",
    "        'last_name': ['Bonder', 'Black', 'Balwner', 'Brice', 'Btisan']}\n",
    "\n",
    "raw_data_3 = {\n",
    "        'subject_id': ['1', '2', '3', '4', '5', '7', '8', '9', '10', '11'],\n",
    "        'test_id': [51, 15, 15, 61, 16, 14, 15, 1, 61, 16]}\n",
    "def generate():\n",
    "    # your code\n",
    "    data1 = pd.DataFrame(raw_data_1, columns=['subject_id', 'first_name','last_name'])\n",
    "    data2 = pd.DataFrame(raw_data_2, columns=['subject_id', 'first_name','last_name'])\n",
    "    data3 = pd.DataFrame(raw_data_3, columns=['subject_id', 'test_id'])\n",
    "    data_all_row = pd.concat([data1,data2])\n",
    "    print(data_all_row)\n",
    "    # print out merge1\n",
    "    merge1 = pd.merge(data_all_row, data3, on='subject_id')\n",
    "    print(merge1)\n",
    "    # print outmerge2\n",
    "    merge2 = pd.merge(data1, data2, on='subject_id', how='outer')\n",
    "    print(merge2)\n",
    "    return None\n",
    "generate()"
   ]
  },
  {
   "cell_type": "markdown",
   "metadata": {},
   "source": [
    "### 8. Create a dataframe named army from the given data. Set the 'origin' colum as the index of the dataframe. Find how many total veterans are there. Select rows where 'deaths' is greater than 450 or less than 45. Select all the regiments not named \"Dragoons\". Select the rows called Texas and Arizona. What's in the fifth cell in the row named Texas. "
   ]
  },
  {
   "cell_type": "code",
   "execution_count": 2,
   "metadata": {},
   "outputs": [
    {
     "name": "stdout",
     "output_type": "stream",
     "text": [
      "              regiment company  deaths  battles  size  veterans  readiness  \\\n",
      "origin                                                                       \n",
      "Arizona     Nighthawks     1st     523        5  1045         1          1   \n",
      "California  Nighthawks     1st      52       42   957         5          2   \n",
      "Texas       Nighthawks     2nd      25        2  1099        62          3   \n",
      "Florida     Nighthawks     2nd     616        2  1400        26          3   \n",
      "Maine         Dragoons     1st      43        4  1592        73          2   \n",
      "Iowa          Dragoons     1st     234        7  1006        37          1   \n",
      "Alaska        Dragoons     2nd     523        8   987       949          2   \n",
      "Washington    Dragoons     2nd      62        3   849        48          3   \n",
      "Oregon          Scouts     1st      62        4   973        48          2   \n",
      "Wyoming         Scouts     1st      73        7  1005       435          1   \n",
      "Louisana        Scouts     2nd      37        8  1099        63          2   \n",
      "Georgia         Scouts     2nd      35        9  1523       345          3   \n",
      "\n",
      "            armored  deserters  \n",
      "origin                          \n",
      "Arizona           1          4  \n",
      "California        0         24  \n",
      "Texas             1         31  \n",
      "Florida           1          2  \n",
      "Maine             0          3  \n",
      "Iowa              1          4  \n",
      "Alaska            0         24  \n",
      "Washington        1         31  \n",
      "Oregon            0          2  \n",
      "Wyoming           0          3  \n",
      "Louisana          1          2  \n",
      "Georgia           1          3  \n",
      "******\n",
      "2092\n",
      "******\n",
      "            regiment company  deaths  battles  size  veterans  readiness  \\\n",
      "origin                                                                     \n",
      "Arizona   Nighthawks     1st     523        5  1045         1          1   \n",
      "Texas     Nighthawks     2nd      25        2  1099        62          3   \n",
      "Florida   Nighthawks     2nd     616        2  1400        26          3   \n",
      "Maine       Dragoons     1st      43        4  1592        73          2   \n",
      "Alaska      Dragoons     2nd     523        8   987       949          2   \n",
      "Louisana      Scouts     2nd      37        8  1099        63          2   \n",
      "Georgia       Scouts     2nd      35        9  1523       345          3   \n",
      "\n",
      "          armored  deserters  \n",
      "origin                        \n",
      "Arizona         1          4  \n",
      "Texas           1         31  \n",
      "Florida         1          2  \n",
      "Maine           0          3  \n",
      "Alaska          0         24  \n",
      "Louisana        1          2  \n",
      "Georgia         1          3  \n"
     ]
    },
    {
     "name": "stderr",
     "output_type": "stream",
     "text": [
      "C:\\Users\\sudeep_r\\AppData\\Local\\Continuum\\anaconda3\\lib\\site-packages\\ipykernel_launcher.py:22: DeprecationWarning: \n",
      ".ix is deprecated. Please use\n",
      ".loc for label based indexing or\n",
      ".iloc for positional indexing\n",
      "\n",
      "See the documentation here:\n",
      "http://pandas.pydata.org/pandas-docs/stable/indexing.html#ix-indexer-is-deprecated\n",
      "C:\\Users\\sudeep_r\\AppData\\Local\\Continuum\\anaconda3\\lib\\site-packages\\ipykernel_launcher.py:23: DeprecationWarning: \n",
      ".ix is deprecated. Please use\n",
      ".loc for label based indexing or\n",
      ".iloc for positional indexing\n",
      "\n",
      "See the documentation here:\n",
      "http://pandas.pydata.org/pandas-docs/stable/indexing.html#ix-indexer-is-deprecated\n"
     ]
    },
    {
     "data": {
      "text/plain": [
       "1099"
      ]
     },
     "execution_count": 2,
     "metadata": {},
     "output_type": "execute_result"
    }
   ],
   "source": [
    "import pandas as pd\n",
    "raw_data = {'regiment': ['Nighthawks', 'Nighthawks', 'Nighthawks', 'Nighthawks', 'Dragoons', 'Dragoons', 'Dragoons', 'Dragoons', 'Scouts', 'Scouts', 'Scouts', 'Scouts'],\n",
    "            'company': ['1st', '1st', '2nd', '2nd', '1st', '1st', '2nd', '2nd','1st', '1st', '2nd', '2nd'],\n",
    "            'deaths': [523, 52, 25, 616, 43, 234, 523, 62, 62, 73, 37, 35],\n",
    "            'battles': [5, 42, 2, 2, 4, 7, 8, 3, 4, 7, 8, 9],\n",
    "            'size': [1045, 957, 1099, 1400, 1592, 1006, 987, 849, 973, 1005, 1099, 1523],\n",
    "            'veterans': [1, 5, 62, 26, 73, 37, 949, 48, 48, 435, 63, 345],\n",
    "            'readiness': [1, 2, 3, 3, 2, 1, 2, 3, 2, 1, 2, 3],\n",
    "            'armored': [1, 0, 1, 1, 0, 1, 0, 1, 0, 0, 1, 1],\n",
    "            'deserters': [4, 24, 31, 2, 3, 4, 24, 31, 2, 3, 2, 3],\n",
    "            'origin': ['Arizona', 'California', 'Texas', 'Florida', 'Maine', 'Iowa', 'Alaska', 'Washington', 'Oregon', 'Wyoming', 'Louisana', 'Georgia']}\n",
    "def generate():\n",
    "    # your code\n",
    "    army = pd.DataFrame(raw_data, columns=['regiment', 'company', 'deaths', 'battles', 'size', 'veterans', 'readiness', 'armored', 'deserters', 'origin'])\n",
    "    army = army.set_index('origin')\n",
    "    print(army)\n",
    "    print('******')\n",
    "    print(army.veterans.sum())\n",
    "    print('******')\n",
    "    print(army[(army['deaths']>450) | (army['deaths']<45)])\n",
    "    army[(army['regiment'] != 'Dragoons')]\n",
    "    army.ix[['Arizona','Texas']]\n",
    "    return army.ix['Texas', 4] # the fifth cell in the row named Texas.¶\n",
    "generate()"
   ]
  },
  {
   "cell_type": "markdown",
   "metadata": {},
   "source": [
    "### 9. Filter out and capitalise all letters of  words that contain atleast 2 vowels from a series? "
   ]
  },
  {
   "cell_type": "code",
   "execution_count": 20,
   "metadata": {},
   "outputs": [
    {
     "name": "stdout",
     "output_type": "stream",
     "text": [
      "0      INSAID\n",
      "1     STRIVES\n",
      "3    BRINGING\n",
      "4         OUT\n",
      "8         YOU\n",
      "dtype: object\n"
     ]
    }
   ],
   "source": [
    "import pandas as pd\n",
    "series = pd.Series(['Insaid', 'strives', 'for', 'bringing','out','the', 'best','in','you' ])\n",
    "def generate():\n",
    "    from collections import Counter\n",
    "    mask = series.map(lambda x: sum([Counter(x.lower()).get(i, 0) for i in list('aeiou')]) >= 2)\n",
    "    s = series[mask].str.upper()\n",
    "    print(s)\n",
    "    return None\n",
    "generate()"
   ]
  },
  {
   "cell_type": "markdown",
   "metadata": {},
   "source": [
    "### 10. Create a dataframe from a 4*4 array containing elements from 0 to15 in a squential order. Swap rows third and fourth by creating a generic function to swap two rows. Now print the dataframe obtained after reversing the elements of each column."
   ]
  },
  {
   "cell_type": "code",
   "execution_count": 19,
   "metadata": {},
   "outputs": [
    {
     "name": "stdout",
     "output_type": "stream",
     "text": [
      "    0   1   2   3\n",
      "0   0   1   2   3\n",
      "1   4   5   6   7\n",
      "2   8   9  10  11\n",
      "3  12  13  14  15\n",
      "    0   1   2   3\n",
      "0   0   1   2   3\n",
      "1   4   5   6   7\n",
      "2  12  13  14  15\n",
      "3   8   9  10  11\n",
      "    0   1   2   3\n",
      "3   8   9  10  11\n",
      "2  12  13  14  15\n",
      "1   4   5   6   7\n",
      "0   0   1   2   3\n"
     ]
    }
   ],
   "source": [
    "import numpy as np\n",
    "import pandas as pd\n",
    "def generate():\n",
    "    # Your code here\n",
    "    df = pd.DataFrame(np.arange(16).reshape(4,4))\n",
    "    print(df)\n",
    "    # print the modified dataframe\n",
    "    def swap_rows(df, i1, i2):\n",
    "        a, b = df.iloc[i1, :].copy(), df.iloc[i2, :].copy()\n",
    "        df.iloc[i1, :], df.iloc[i2, :] = b, a\n",
    "        return df\n",
    "    print(swap_rows(df, 2, 3))\n",
    "    print(df.iloc[::-1, :])\n",
    "    return None\n",
    "generate()"
   ]
  }
 ],
 "metadata": {
  "kernelspec": {
   "display_name": "Python 3",
   "language": "python",
   "name": "python3"
  },
  "language_info": {
   "codemirror_mode": {
    "name": "ipython",
    "version": 3
   },
   "file_extension": ".py",
   "mimetype": "text/x-python",
   "name": "python",
   "nbconvert_exporter": "python",
   "pygments_lexer": "ipython3",
   "version": "3.6.5"
  }
 },
 "nbformat": 4,
 "nbformat_minor": 2
}
