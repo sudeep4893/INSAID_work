{
 "cells": [
  {
   "cell_type": "code",
   "execution_count": 27,
   "metadata": {},
   "outputs": [],
   "source": [
    "import numpy as np\n",
    "import pandas as pd\n",
    "import pandas_profiling\n",
    "import matplotlib.pyplot as plt                                    # Plotting library for Python programming language and it's numerical mathematics extension NumPy\n",
    "import seaborn as sns                                              # Provides a high level interface for drawing attractive and informative statistical graphics\n",
    "%matplotlib inline\n",
    "sns.set()\n",
    "\n",
    "from subprocess import check_output"
   ]
  },
  {
   "cell_type": "code",
   "execution_count": 28,
   "metadata": {},
   "outputs": [],
   "source": [
    "imdb = pd.read_csv('https://raw.githubusercontent.com/insaid2018/Term-1/master/Data/Projects/1000%20movies%20data.csv')"
   ]
  },
  {
   "cell_type": "code",
   "execution_count": 29,
   "metadata": {},
   "outputs": [],
   "source": [
    "profile = pandas_profiling.ProfileReport(imdb)\n",
    "profile.to_file(outputfile=\"movies_before_preprocessing.html\")"
   ]
  },
  {
   "cell_type": "code",
   "execution_count": 30,
   "metadata": {},
   "outputs": [
    {
     "data": {
      "text/html": [
       "<div>\n",
       "<style scoped>\n",
       "    .dataframe tbody tr th:only-of-type {\n",
       "        vertical-align: middle;\n",
       "    }\n",
       "\n",
       "    .dataframe tbody tr th {\n",
       "        vertical-align: top;\n",
       "    }\n",
       "\n",
       "    .dataframe thead th {\n",
       "        text-align: right;\n",
       "    }\n",
       "</style>\n",
       "<table border=\"1\" class=\"dataframe\">\n",
       "  <thead>\n",
       "    <tr style=\"text-align: right;\">\n",
       "      <th></th>\n",
       "      <th>Rank</th>\n",
       "      <th>Title</th>\n",
       "      <th>Genre</th>\n",
       "      <th>Description</th>\n",
       "      <th>Director</th>\n",
       "      <th>Actors</th>\n",
       "      <th>Year</th>\n",
       "      <th>Runtime (Minutes)</th>\n",
       "      <th>Rating</th>\n",
       "      <th>Votes</th>\n",
       "      <th>Revenue (Millions)</th>\n",
       "      <th>Metascore</th>\n",
       "    </tr>\n",
       "  </thead>\n",
       "  <tbody>\n",
       "    <tr>\n",
       "      <th>266</th>\n",
       "      <td>267</td>\n",
       "      <td>Dirty Grandpa</td>\n",
       "      <td>Comedy</td>\n",
       "      <td>Right before his wedding, an uptight guy is tr...</td>\n",
       "      <td>Dan Mazer</td>\n",
       "      <td>Robert De Niro, Zac Efron, Zoey Deutch, Aubrey...</td>\n",
       "      <td>2016</td>\n",
       "      <td>102</td>\n",
       "      <td>6.0</td>\n",
       "      <td>75137</td>\n",
       "      <td>35.54</td>\n",
       "      <td>18.0</td>\n",
       "    </tr>\n",
       "    <tr>\n",
       "      <th>473</th>\n",
       "      <td>474</td>\n",
       "      <td>Harry Potter and the Half-Blood Prince</td>\n",
       "      <td>Adventure,Family,Fantasy</td>\n",
       "      <td>As Harry Potter begins his sixth year at Hogwa...</td>\n",
       "      <td>David Yates</td>\n",
       "      <td>Daniel Radcliffe, Emma Watson, Rupert Grint, M...</td>\n",
       "      <td>2009</td>\n",
       "      <td>153</td>\n",
       "      <td>7.5</td>\n",
       "      <td>351059</td>\n",
       "      <td>301.96</td>\n",
       "      <td>78.0</td>\n",
       "    </tr>\n",
       "    <tr>\n",
       "      <th>795</th>\n",
       "      <td>796</td>\n",
       "      <td>No Strings Attached</td>\n",
       "      <td>Comedy,Romance</td>\n",
       "      <td>A guy and girl try to keep their relationship ...</td>\n",
       "      <td>Ivan Reitman</td>\n",
       "      <td>Natalie Portman, Ashton Kutcher, Kevin Kline, ...</td>\n",
       "      <td>2011</td>\n",
       "      <td>108</td>\n",
       "      <td>6.2</td>\n",
       "      <td>178243</td>\n",
       "      <td>70.63</td>\n",
       "      <td>50.0</td>\n",
       "    </tr>\n",
       "    <tr>\n",
       "      <th>188</th>\n",
       "      <td>189</td>\n",
       "      <td>Drive</td>\n",
       "      <td>Crime,Drama</td>\n",
       "      <td>A mysterious Hollywood stuntman and mechanic m...</td>\n",
       "      <td>Nicolas Winding Refn</td>\n",
       "      <td>Ryan Gosling, Carey Mulligan, Bryan Cranston, ...</td>\n",
       "      <td>2011</td>\n",
       "      <td>100</td>\n",
       "      <td>7.8</td>\n",
       "      <td>461509</td>\n",
       "      <td>35.05</td>\n",
       "      <td>78.0</td>\n",
       "    </tr>\n",
       "    <tr>\n",
       "      <th>660</th>\n",
       "      <td>661</td>\n",
       "      <td>Pineapple Express</td>\n",
       "      <td>Action,Comedy,Crime</td>\n",
       "      <td>A process server and his marijuana dealer wind...</td>\n",
       "      <td>David Gordon Green</td>\n",
       "      <td>Seth Rogen, James Franco, Gary Cole, Danny McB...</td>\n",
       "      <td>2008</td>\n",
       "      <td>111</td>\n",
       "      <td>7.0</td>\n",
       "      <td>267872</td>\n",
       "      <td>87.34</td>\n",
       "      <td>64.0</td>\n",
       "    </tr>\n",
       "    <tr>\n",
       "      <th>162</th>\n",
       "      <td>163</td>\n",
       "      <td>X-Men: Days of Future Past</td>\n",
       "      <td>Action,Adventure,Sci-Fi</td>\n",
       "      <td>The X-Men send Wolverine to the past in a desp...</td>\n",
       "      <td>Bryan Singer</td>\n",
       "      <td>Patrick Stewart, Ian McKellen, Hugh Jackman, J...</td>\n",
       "      <td>2014</td>\n",
       "      <td>132</td>\n",
       "      <td>8.0</td>\n",
       "      <td>552298</td>\n",
       "      <td>233.91</td>\n",
       "      <td>74.0</td>\n",
       "    </tr>\n",
       "    <tr>\n",
       "      <th>250</th>\n",
       "      <td>251</td>\n",
       "      <td>Bonjour Anne</td>\n",
       "      <td>Comedy,Drama,Romance</td>\n",
       "      <td>Anne is at a crossroads in her life. Long marr...</td>\n",
       "      <td>Eleanor Coppola</td>\n",
       "      <td>Diane Lane, Alec Baldwin, Arnaud Viard, Linda ...</td>\n",
       "      <td>2016</td>\n",
       "      <td>92</td>\n",
       "      <td>4.9</td>\n",
       "      <td>178</td>\n",
       "      <td>0.32</td>\n",
       "      <td>50.0</td>\n",
       "    </tr>\n",
       "    <tr>\n",
       "      <th>363</th>\n",
       "      <td>364</td>\n",
       "      <td>Zombieland</td>\n",
       "      <td>Adventure,Comedy,Horror</td>\n",
       "      <td>A shy student trying to reach his family in Oh...</td>\n",
       "      <td>Ruben Fleischer</td>\n",
       "      <td>Jesse Eisenberg, Emma Stone, Woody Harrelson,A...</td>\n",
       "      <td>2009</td>\n",
       "      <td>88</td>\n",
       "      <td>7.7</td>\n",
       "      <td>409403</td>\n",
       "      <td>75.59</td>\n",
       "      <td>73.0</td>\n",
       "    </tr>\n",
       "    <tr>\n",
       "      <th>867</th>\n",
       "      <td>868</td>\n",
       "      <td>The Stanford Prison Experiment</td>\n",
       "      <td>Biography,Drama,History</td>\n",
       "      <td>Twenty-four male students out of seventy-five ...</td>\n",
       "      <td>Kyle Patrick Alvarez</td>\n",
       "      <td>Ezra Miller, Tye Sheridan, Billy Crudup, Olivi...</td>\n",
       "      <td>2015</td>\n",
       "      <td>122</td>\n",
       "      <td>6.9</td>\n",
       "      <td>20907</td>\n",
       "      <td>0.64</td>\n",
       "      <td>67.0</td>\n",
       "    </tr>\n",
       "    <tr>\n",
       "      <th>620</th>\n",
       "      <td>621</td>\n",
       "      <td>Dope</td>\n",
       "      <td>Comedy,Crime,Drama</td>\n",
       "      <td>Life changes for Malcolm, a geek who's survivi...</td>\n",
       "      <td>Rick Famuyiwa</td>\n",
       "      <td>Shameik Moore, Tony Revolori, Kiersey Clemons,...</td>\n",
       "      <td>2015</td>\n",
       "      <td>103</td>\n",
       "      <td>7.3</td>\n",
       "      <td>66400</td>\n",
       "      <td>17.47</td>\n",
       "      <td>72.0</td>\n",
       "    </tr>\n",
       "  </tbody>\n",
       "</table>\n",
       "</div>"
      ],
      "text/plain": [
       "     Rank                                   Title                     Genre  \\\n",
       "266   267                           Dirty Grandpa                    Comedy   \n",
       "473   474  Harry Potter and the Half-Blood Prince  Adventure,Family,Fantasy   \n",
       "795   796                     No Strings Attached            Comedy,Romance   \n",
       "188   189                                   Drive               Crime,Drama   \n",
       "660   661                       Pineapple Express       Action,Comedy,Crime   \n",
       "162   163              X-Men: Days of Future Past   Action,Adventure,Sci-Fi   \n",
       "250   251                            Bonjour Anne      Comedy,Drama,Romance   \n",
       "363   364                              Zombieland   Adventure,Comedy,Horror   \n",
       "867   868          The Stanford Prison Experiment   Biography,Drama,History   \n",
       "620   621                                    Dope        Comedy,Crime,Drama   \n",
       "\n",
       "                                           Description              Director  \\\n",
       "266  Right before his wedding, an uptight guy is tr...             Dan Mazer   \n",
       "473  As Harry Potter begins his sixth year at Hogwa...           David Yates   \n",
       "795  A guy and girl try to keep their relationship ...          Ivan Reitman   \n",
       "188  A mysterious Hollywood stuntman and mechanic m...  Nicolas Winding Refn   \n",
       "660  A process server and his marijuana dealer wind...    David Gordon Green   \n",
       "162  The X-Men send Wolverine to the past in a desp...          Bryan Singer   \n",
       "250  Anne is at a crossroads in her life. Long marr...       Eleanor Coppola   \n",
       "363  A shy student trying to reach his family in Oh...       Ruben Fleischer   \n",
       "867  Twenty-four male students out of seventy-five ...  Kyle Patrick Alvarez   \n",
       "620  Life changes for Malcolm, a geek who's survivi...         Rick Famuyiwa   \n",
       "\n",
       "                                                Actors  Year  \\\n",
       "266  Robert De Niro, Zac Efron, Zoey Deutch, Aubrey...  2016   \n",
       "473  Daniel Radcliffe, Emma Watson, Rupert Grint, M...  2009   \n",
       "795  Natalie Portman, Ashton Kutcher, Kevin Kline, ...  2011   \n",
       "188  Ryan Gosling, Carey Mulligan, Bryan Cranston, ...  2011   \n",
       "660  Seth Rogen, James Franco, Gary Cole, Danny McB...  2008   \n",
       "162  Patrick Stewart, Ian McKellen, Hugh Jackman, J...  2014   \n",
       "250  Diane Lane, Alec Baldwin, Arnaud Viard, Linda ...  2016   \n",
       "363  Jesse Eisenberg, Emma Stone, Woody Harrelson,A...  2009   \n",
       "867  Ezra Miller, Tye Sheridan, Billy Crudup, Olivi...  2015   \n",
       "620  Shameik Moore, Tony Revolori, Kiersey Clemons,...  2015   \n",
       "\n",
       "     Runtime (Minutes)  Rating   Votes  Revenue (Millions)  Metascore  \n",
       "266                102     6.0   75137               35.54       18.0  \n",
       "473                153     7.5  351059              301.96       78.0  \n",
       "795                108     6.2  178243               70.63       50.0  \n",
       "188                100     7.8  461509               35.05       78.0  \n",
       "660                111     7.0  267872               87.34       64.0  \n",
       "162                132     8.0  552298              233.91       74.0  \n",
       "250                 92     4.9     178                0.32       50.0  \n",
       "363                 88     7.7  409403               75.59       73.0  \n",
       "867                122     6.9   20907                0.64       67.0  \n",
       "620                103     7.3   66400               17.47       72.0  "
      ]
     },
     "execution_count": 30,
     "metadata": {},
     "output_type": "execute_result"
    }
   ],
   "source": [
    "imdb.sample(10)"
   ]
  },
  {
   "cell_type": "code",
   "execution_count": 31,
   "metadata": {},
   "outputs": [
    {
     "data": {
      "text/html": [
       "<div>\n",
       "<style scoped>\n",
       "    .dataframe tbody tr th:only-of-type {\n",
       "        vertical-align: middle;\n",
       "    }\n",
       "\n",
       "    .dataframe tbody tr th {\n",
       "        vertical-align: top;\n",
       "    }\n",
       "\n",
       "    .dataframe thead th {\n",
       "        text-align: right;\n",
       "    }\n",
       "</style>\n",
       "<table border=\"1\" class=\"dataframe\">\n",
       "  <thead>\n",
       "    <tr style=\"text-align: right;\">\n",
       "      <th></th>\n",
       "      <th>Rank</th>\n",
       "      <th>Year</th>\n",
       "      <th>Runtime (Minutes)</th>\n",
       "      <th>Rating</th>\n",
       "      <th>Votes</th>\n",
       "      <th>Revenue (Millions)</th>\n",
       "      <th>Metascore</th>\n",
       "    </tr>\n",
       "  </thead>\n",
       "  <tbody>\n",
       "    <tr>\n",
       "      <th>count</th>\n",
       "      <td>1000.000000</td>\n",
       "      <td>1000.000000</td>\n",
       "      <td>1000.000000</td>\n",
       "      <td>1000.000000</td>\n",
       "      <td>1.000000e+03</td>\n",
       "      <td>872.000000</td>\n",
       "      <td>936.000000</td>\n",
       "    </tr>\n",
       "    <tr>\n",
       "      <th>mean</th>\n",
       "      <td>500.500000</td>\n",
       "      <td>2012.783000</td>\n",
       "      <td>113.172000</td>\n",
       "      <td>6.723200</td>\n",
       "      <td>1.698083e+05</td>\n",
       "      <td>82.956376</td>\n",
       "      <td>58.985043</td>\n",
       "    </tr>\n",
       "    <tr>\n",
       "      <th>std</th>\n",
       "      <td>288.819436</td>\n",
       "      <td>3.205962</td>\n",
       "      <td>18.810908</td>\n",
       "      <td>0.945429</td>\n",
       "      <td>1.887626e+05</td>\n",
       "      <td>103.253540</td>\n",
       "      <td>17.194757</td>\n",
       "    </tr>\n",
       "    <tr>\n",
       "      <th>min</th>\n",
       "      <td>1.000000</td>\n",
       "      <td>2006.000000</td>\n",
       "      <td>66.000000</td>\n",
       "      <td>1.900000</td>\n",
       "      <td>6.100000e+01</td>\n",
       "      <td>0.000000</td>\n",
       "      <td>11.000000</td>\n",
       "    </tr>\n",
       "    <tr>\n",
       "      <th>25%</th>\n",
       "      <td>250.750000</td>\n",
       "      <td>2010.000000</td>\n",
       "      <td>100.000000</td>\n",
       "      <td>6.200000</td>\n",
       "      <td>3.630900e+04</td>\n",
       "      <td>13.270000</td>\n",
       "      <td>47.000000</td>\n",
       "    </tr>\n",
       "    <tr>\n",
       "      <th>50%</th>\n",
       "      <td>500.500000</td>\n",
       "      <td>2014.000000</td>\n",
       "      <td>111.000000</td>\n",
       "      <td>6.800000</td>\n",
       "      <td>1.107990e+05</td>\n",
       "      <td>47.985000</td>\n",
       "      <td>59.500000</td>\n",
       "    </tr>\n",
       "    <tr>\n",
       "      <th>75%</th>\n",
       "      <td>750.250000</td>\n",
       "      <td>2016.000000</td>\n",
       "      <td>123.000000</td>\n",
       "      <td>7.400000</td>\n",
       "      <td>2.399098e+05</td>\n",
       "      <td>113.715000</td>\n",
       "      <td>72.000000</td>\n",
       "    </tr>\n",
       "    <tr>\n",
       "      <th>max</th>\n",
       "      <td>1000.000000</td>\n",
       "      <td>2016.000000</td>\n",
       "      <td>191.000000</td>\n",
       "      <td>9.000000</td>\n",
       "      <td>1.791916e+06</td>\n",
       "      <td>936.630000</td>\n",
       "      <td>100.000000</td>\n",
       "    </tr>\n",
       "  </tbody>\n",
       "</table>\n",
       "</div>"
      ],
      "text/plain": [
       "              Rank         Year  Runtime (Minutes)       Rating         Votes  \\\n",
       "count  1000.000000  1000.000000        1000.000000  1000.000000  1.000000e+03   \n",
       "mean    500.500000  2012.783000         113.172000     6.723200  1.698083e+05   \n",
       "std     288.819436     3.205962          18.810908     0.945429  1.887626e+05   \n",
       "min       1.000000  2006.000000          66.000000     1.900000  6.100000e+01   \n",
       "25%     250.750000  2010.000000         100.000000     6.200000  3.630900e+04   \n",
       "50%     500.500000  2014.000000         111.000000     6.800000  1.107990e+05   \n",
       "75%     750.250000  2016.000000         123.000000     7.400000  2.399098e+05   \n",
       "max    1000.000000  2016.000000         191.000000     9.000000  1.791916e+06   \n",
       "\n",
       "       Revenue (Millions)   Metascore  \n",
       "count          872.000000  936.000000  \n",
       "mean            82.956376   58.985043  \n",
       "std            103.253540   17.194757  \n",
       "min              0.000000   11.000000  \n",
       "25%             13.270000   47.000000  \n",
       "50%             47.985000   59.500000  \n",
       "75%            113.715000   72.000000  \n",
       "max            936.630000  100.000000  "
      ]
     },
     "execution_count": 31,
     "metadata": {},
     "output_type": "execute_result"
    }
   ],
   "source": [
    "imdb.describe()"
   ]
  },
  {
   "cell_type": "code",
   "execution_count": 32,
   "metadata": {},
   "outputs": [
    {
     "name": "stdout",
     "output_type": "stream",
     "text": [
      "<class 'pandas.core.frame.DataFrame'>\n",
      "RangeIndex: 1000 entries, 0 to 999\n",
      "Data columns (total 12 columns):\n",
      "Rank                  1000 non-null int64\n",
      "Title                 1000 non-null object\n",
      "Genre                 1000 non-null object\n",
      "Description           1000 non-null object\n",
      "Director              1000 non-null object\n",
      "Actors                1000 non-null object\n",
      "Year                  1000 non-null int64\n",
      "Runtime (Minutes)     1000 non-null int64\n",
      "Rating                1000 non-null float64\n",
      "Votes                 1000 non-null int64\n",
      "Revenue (Millions)    872 non-null float64\n",
      "Metascore             936 non-null float64\n",
      "dtypes: float64(3), int64(4), object(5)\n",
      "memory usage: 93.8+ KB\n"
     ]
    }
   ],
   "source": [
    "imdb.info()"
   ]
  },
  {
   "cell_type": "code",
   "execution_count": 33,
   "metadata": {},
   "outputs": [
    {
     "data": {
      "text/plain": [
       "Rank                    0\n",
       "Title                   0\n",
       "Genre                   0\n",
       "Description             0\n",
       "Director                0\n",
       "Actors                  0\n",
       "Year                    0\n",
       "Runtime (Minutes)       0\n",
       "Rating                  0\n",
       "Votes                   0\n",
       "Revenue (Millions)    128\n",
       "Metascore              64\n",
       "dtype: int64"
      ]
     },
     "execution_count": 33,
     "metadata": {},
     "output_type": "execute_result"
    }
   ],
   "source": [
    "imdb.isnull().sum()"
   ]
  },
  {
   "cell_type": "code",
   "execution_count": 34,
   "metadata": {},
   "outputs": [
    {
     "name": "stdout",
     "output_type": "stream",
     "text": [
      "47.985\n",
      "59.5\n"
     ]
    }
   ],
   "source": [
    "Revenue = imdb['Revenue (Millions)'].median()\n",
    "print(Revenue)\n",
    "Metascore = imdb.Metascore.median()\n",
    "print(Metascore)\n",
    "imdb['Revenue (Millions)'].fillna(Revenue, inplace=True)\n",
    "imdb.Metascore.fillna(Metascore, inplace=True)"
   ]
  },
  {
   "cell_type": "code",
   "execution_count": 35,
   "metadata": {},
   "outputs": [
    {
     "data": {
      "text/plain": [
       "Rank                  0\n",
       "Title                 0\n",
       "Genre                 0\n",
       "Description           0\n",
       "Director              0\n",
       "Actors                0\n",
       "Year                  0\n",
       "Runtime (Minutes)     0\n",
       "Rating                0\n",
       "Votes                 0\n",
       "Revenue (Millions)    0\n",
       "Metascore             0\n",
       "dtype: int64"
      ]
     },
     "execution_count": 35,
     "metadata": {},
     "output_type": "execute_result"
    }
   ],
   "source": [
    "imdb.isnull().sum()"
   ]
  },
  {
   "cell_type": "code",
   "execution_count": 36,
   "metadata": {},
   "outputs": [
    {
     "data": {
      "text/html": [
       "<div>\n",
       "<style scoped>\n",
       "    .dataframe tbody tr th:only-of-type {\n",
       "        vertical-align: middle;\n",
       "    }\n",
       "\n",
       "    .dataframe tbody tr th {\n",
       "        vertical-align: top;\n",
       "    }\n",
       "\n",
       "    .dataframe thead th {\n",
       "        text-align: right;\n",
       "    }\n",
       "</style>\n",
       "<table border=\"1\" class=\"dataframe\">\n",
       "  <thead>\n",
       "    <tr style=\"text-align: right;\">\n",
       "      <th></th>\n",
       "      <th>Rank</th>\n",
       "      <th>Year</th>\n",
       "      <th>Runtime (Minutes)</th>\n",
       "      <th>Rating</th>\n",
       "      <th>Votes</th>\n",
       "      <th>Revenue (Millions)</th>\n",
       "      <th>Metascore</th>\n",
       "    </tr>\n",
       "  </thead>\n",
       "  <tbody>\n",
       "    <tr>\n",
       "      <th>count</th>\n",
       "      <td>1000.000000</td>\n",
       "      <td>1000.000000</td>\n",
       "      <td>1000.000000</td>\n",
       "      <td>1000.000000</td>\n",
       "      <td>1.000000e+03</td>\n",
       "      <td>1000.000000</td>\n",
       "      <td>1000.000000</td>\n",
       "    </tr>\n",
       "    <tr>\n",
       "      <th>mean</th>\n",
       "      <td>500.500000</td>\n",
       "      <td>2012.783000</td>\n",
       "      <td>113.172000</td>\n",
       "      <td>6.723200</td>\n",
       "      <td>1.698083e+05</td>\n",
       "      <td>78.480040</td>\n",
       "      <td>59.018000</td>\n",
       "    </tr>\n",
       "    <tr>\n",
       "      <th>std</th>\n",
       "      <td>288.819436</td>\n",
       "      <td>3.205962</td>\n",
       "      <td>18.810908</td>\n",
       "      <td>0.945429</td>\n",
       "      <td>1.887626e+05</td>\n",
       "      <td>97.118097</td>\n",
       "      <td>16.635336</td>\n",
       "    </tr>\n",
       "    <tr>\n",
       "      <th>min</th>\n",
       "      <td>1.000000</td>\n",
       "      <td>2006.000000</td>\n",
       "      <td>66.000000</td>\n",
       "      <td>1.900000</td>\n",
       "      <td>6.100000e+01</td>\n",
       "      <td>0.000000</td>\n",
       "      <td>11.000000</td>\n",
       "    </tr>\n",
       "    <tr>\n",
       "      <th>25%</th>\n",
       "      <td>250.750000</td>\n",
       "      <td>2010.000000</td>\n",
       "      <td>100.000000</td>\n",
       "      <td>6.200000</td>\n",
       "      <td>3.630900e+04</td>\n",
       "      <td>17.442500</td>\n",
       "      <td>47.750000</td>\n",
       "    </tr>\n",
       "    <tr>\n",
       "      <th>50%</th>\n",
       "      <td>500.500000</td>\n",
       "      <td>2014.000000</td>\n",
       "      <td>111.000000</td>\n",
       "      <td>6.800000</td>\n",
       "      <td>1.107990e+05</td>\n",
       "      <td>47.985000</td>\n",
       "      <td>59.500000</td>\n",
       "    </tr>\n",
       "    <tr>\n",
       "      <th>75%</th>\n",
       "      <td>750.250000</td>\n",
       "      <td>2016.000000</td>\n",
       "      <td>123.000000</td>\n",
       "      <td>7.400000</td>\n",
       "      <td>2.399098e+05</td>\n",
       "      <td>99.177500</td>\n",
       "      <td>71.000000</td>\n",
       "    </tr>\n",
       "    <tr>\n",
       "      <th>max</th>\n",
       "      <td>1000.000000</td>\n",
       "      <td>2016.000000</td>\n",
       "      <td>191.000000</td>\n",
       "      <td>9.000000</td>\n",
       "      <td>1.791916e+06</td>\n",
       "      <td>936.630000</td>\n",
       "      <td>100.000000</td>\n",
       "    </tr>\n",
       "  </tbody>\n",
       "</table>\n",
       "</div>"
      ],
      "text/plain": [
       "              Rank         Year  Runtime (Minutes)       Rating         Votes  \\\n",
       "count  1000.000000  1000.000000        1000.000000  1000.000000  1.000000e+03   \n",
       "mean    500.500000  2012.783000         113.172000     6.723200  1.698083e+05   \n",
       "std     288.819436     3.205962          18.810908     0.945429  1.887626e+05   \n",
       "min       1.000000  2006.000000          66.000000     1.900000  6.100000e+01   \n",
       "25%     250.750000  2010.000000         100.000000     6.200000  3.630900e+04   \n",
       "50%     500.500000  2014.000000         111.000000     6.800000  1.107990e+05   \n",
       "75%     750.250000  2016.000000         123.000000     7.400000  2.399098e+05   \n",
       "max    1000.000000  2016.000000         191.000000     9.000000  1.791916e+06   \n",
       "\n",
       "       Revenue (Millions)    Metascore  \n",
       "count         1000.000000  1000.000000  \n",
       "mean            78.480040    59.018000  \n",
       "std             97.118097    16.635336  \n",
       "min              0.000000    11.000000  \n",
       "25%             17.442500    47.750000  \n",
       "50%             47.985000    59.500000  \n",
       "75%             99.177500    71.000000  \n",
       "max            936.630000   100.000000  "
      ]
     },
     "execution_count": 36,
     "metadata": {},
     "output_type": "execute_result"
    }
   ],
   "source": [
    "desc = imdb.describe()\n",
    "desc"
   ]
  },
  {
   "cell_type": "code",
   "execution_count": 37,
   "metadata": {},
   "outputs": [],
   "source": [
    "def cat_on_rating(rate):\n",
    "    if rate <= desc.loc['min']['Rating']:\n",
    "        return 'Not watchable'\n",
    "    elif rate > desc.loc['min']['Rating'] and rate <= desc.loc['25%']['Rating']:\n",
    "        return 'Not Good'\n",
    "    elif rate > desc.loc['25%']['Rating'] and rate <= desc.loc['50%']['Rating']:\n",
    "        return 'Below Average'\n",
    "    elif rate > desc.loc['50%']['Rating'] and rate <= desc.loc['75%']['Rating']:\n",
    "        return 'Above Average'\n",
    "    elif rate > desc.loc['75%']['Rating'] and rate <= desc.loc['max']['Rating']:\n",
    "        return 'Value for Money'"
   ]
  },
  {
   "cell_type": "code",
   "execution_count": 38,
   "metadata": {},
   "outputs": [],
   "source": [
    "imdb['CategoryOnRating'] = imdb['Rating'].apply(lambda x: cat_on_rating(x))"
   ]
  },
  {
   "cell_type": "code",
   "execution_count": 39,
   "metadata": {},
   "outputs": [
    {
     "data": {
      "text/html": [
       "<div>\n",
       "<style scoped>\n",
       "    .dataframe tbody tr th:only-of-type {\n",
       "        vertical-align: middle;\n",
       "    }\n",
       "\n",
       "    .dataframe tbody tr th {\n",
       "        vertical-align: top;\n",
       "    }\n",
       "\n",
       "    .dataframe thead th {\n",
       "        text-align: right;\n",
       "    }\n",
       "</style>\n",
       "<table border=\"1\" class=\"dataframe\">\n",
       "  <thead>\n",
       "    <tr style=\"text-align: right;\">\n",
       "      <th></th>\n",
       "      <th>Rank</th>\n",
       "      <th>Title</th>\n",
       "      <th>Genre</th>\n",
       "      <th>Description</th>\n",
       "      <th>Director</th>\n",
       "      <th>Actors</th>\n",
       "      <th>Year</th>\n",
       "      <th>Runtime (Minutes)</th>\n",
       "      <th>Rating</th>\n",
       "      <th>Votes</th>\n",
       "      <th>Revenue (Millions)</th>\n",
       "      <th>Metascore</th>\n",
       "      <th>CategoryOnRating</th>\n",
       "    </tr>\n",
       "  </thead>\n",
       "  <tbody>\n",
       "    <tr>\n",
       "      <th>0</th>\n",
       "      <td>1</td>\n",
       "      <td>Guardians of the Galaxy</td>\n",
       "      <td>Action,Adventure,Sci-Fi</td>\n",
       "      <td>A group of intergalactic criminals are forced ...</td>\n",
       "      <td>James Gunn</td>\n",
       "      <td>Chris Pratt, Vin Diesel, Bradley Cooper, Zoe S...</td>\n",
       "      <td>2014</td>\n",
       "      <td>121</td>\n",
       "      <td>8.1</td>\n",
       "      <td>757074</td>\n",
       "      <td>333.13</td>\n",
       "      <td>76.0</td>\n",
       "      <td>Value for Money</td>\n",
       "    </tr>\n",
       "    <tr>\n",
       "      <th>1</th>\n",
       "      <td>2</td>\n",
       "      <td>Prometheus</td>\n",
       "      <td>Adventure,Mystery,Sci-Fi</td>\n",
       "      <td>Following clues to the origin of mankind, a te...</td>\n",
       "      <td>Ridley Scott</td>\n",
       "      <td>Noomi Rapace, Logan Marshall-Green, Michael Fa...</td>\n",
       "      <td>2012</td>\n",
       "      <td>124</td>\n",
       "      <td>7.0</td>\n",
       "      <td>485820</td>\n",
       "      <td>126.46</td>\n",
       "      <td>65.0</td>\n",
       "      <td>Above Average</td>\n",
       "    </tr>\n",
       "  </tbody>\n",
       "</table>\n",
       "</div>"
      ],
      "text/plain": [
       "   Rank                    Title                     Genre  \\\n",
       "0     1  Guardians of the Galaxy   Action,Adventure,Sci-Fi   \n",
       "1     2               Prometheus  Adventure,Mystery,Sci-Fi   \n",
       "\n",
       "                                         Description      Director  \\\n",
       "0  A group of intergalactic criminals are forced ...    James Gunn   \n",
       "1  Following clues to the origin of mankind, a te...  Ridley Scott   \n",
       "\n",
       "                                              Actors  Year  Runtime (Minutes)  \\\n",
       "0  Chris Pratt, Vin Diesel, Bradley Cooper, Zoe S...  2014                121   \n",
       "1  Noomi Rapace, Logan Marshall-Green, Michael Fa...  2012                124   \n",
       "\n",
       "   Rating   Votes  Revenue (Millions)  Metascore CategoryOnRating  \n",
       "0     8.1  757074              333.13       76.0  Value for Money  \n",
       "1     7.0  485820              126.46       65.0    Above Average  "
      ]
     },
     "execution_count": 39,
     "metadata": {},
     "output_type": "execute_result"
    }
   ],
   "source": [
    "imdb[imdb.Rating> 6.2].head(2)"
   ]
  },
  {
   "cell_type": "code",
   "execution_count": 40,
   "metadata": {},
   "outputs": [
    {
     "data": {
      "text/plain": [
       "<matplotlib.axes._subplots.AxesSubplot at 0x1a830868710>"
      ]
     },
     "execution_count": 40,
     "metadata": {},
     "output_type": "execute_result"
    },
    {
     "data": {
      "image/png": "[encoded data removed]",
      "text/plain": [
       "<Figure size 800x550 with 1 Axes>"
      ]
     },
     "metadata": {},
     "output_type": "display_data"
    }
   ],
   "source": [
    "imdb.groupby('Year')['Title'].count().plot.bar()"
   ]
  },
  {
   "cell_type": "code",
   "execution_count": 41,
   "metadata": {},
   "outputs": [
    {
     "name": "stderr",
     "output_type": "stream",
     "text": [
      "C:\\Users\\sudeep_r\\AppData\\Local\\Continuum\\anaconda3\\lib\\site-packages\\matplotlib\\axes\\_axes.py:6462: UserWarning: The 'normed' kwarg is deprecated, and has been replaced by the 'density' kwarg.\n",
      "  warnings.warn(\"The 'normed' kwarg is deprecated, and has been \"\n"
     ]
    },
    {
     "data": {
      "text/plain": [
       "<matplotlib.axes._subplots.AxesSubplot at 0x1a8308db518>"
      ]
     },
     "execution_count": 41,
     "metadata": {},
     "output_type": "execute_result"
    },
    {
     "data": {
      "image/png": "[encoded data removed]",
      "text/plain": [
       "<Figure size 800x550 with 1 Axes>"
      ]
     },
     "metadata": {},
     "output_type": "display_data"
    }
   ],
   "source": [
    "sns.distplot(imdb['Year'], bins=40)"
   ]
  },
  {
   "cell_type": "code",
   "execution_count": 42,
   "metadata": {},
   "outputs": [
    {
     "name": "stderr",
     "output_type": "stream",
     "text": [
      "C:\\Users\\sudeep_r\\AppData\\Local\\Continuum\\anaconda3\\lib\\site-packages\\matplotlib\\axes\\_axes.py:6462: UserWarning: The 'normed' kwarg is deprecated, and has been replaced by the 'density' kwarg.\n",
      "  warnings.warn(\"The 'normed' kwarg is deprecated, and has been \"\n",
      "C:\\Users\\sudeep_r\\AppData\\Local\\Continuum\\anaconda3\\lib\\site-packages\\matplotlib\\axes\\_axes.py:6462: UserWarning: The 'normed' kwarg is deprecated, and has been replaced by the 'density' kwarg.\n",
      "  warnings.warn(\"The 'normed' kwarg is deprecated, and has been \"\n"
     ]
    },
    {
     "data": {
      "text/plain": [
       "<seaborn.axisgrid.JointGrid at 0x1a8308db470>"
      ]
     },
     "execution_count": 42,
     "metadata": {},
     "output_type": "execute_result"
    },
    {
     "data": {
      "image/png": "[encoded data removed]",
      "text/plain": [
       "<Figure size 600x600 with 3 Axes>"
      ]
     },
     "metadata": {},
     "output_type": "display_data"
    }
   ],
   "source": [
    "sns.jointplot(x='Year',y='Revenue (Millions)',data=imdb)"
   ]
  }
 ],
 "metadata": {
  "kernelspec": {
   "display_name": "Python 3",
   "language": "python",
   "name": "python3"
  },
  "language_info": {
   "codemirror_mode": {
    "name": "ipython",
    "version": 3
   },
   "file_extension": ".py",
   "mimetype": "text/x-python",
   "name": "python",
   "nbconvert_exporter": "python",
   "pygments_lexer": "ipython3",
   "version": "3.6.5"
  }
 },
 "nbformat": 4,
 "nbformat_minor": 2
}
