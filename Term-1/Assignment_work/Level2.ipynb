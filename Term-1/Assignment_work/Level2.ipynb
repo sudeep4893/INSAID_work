{
 "cells": [
  {
   "cell_type": "markdown",
   "metadata": {},
   "source": [
    "<img src = 'https://github.com/insaid2018/Term-1/blob/master/Images/INSAID_Full%20Logo.png?raw=true' width=\"240\" height=\"360\">\n",
    "# __Assignment: Numpy and Pandas__\n",
    "### Level: 2"
   ]
  },
  {
   "cell_type": "markdown",
   "metadata": {},
   "source": [
    "### 1. Form a 1D array containing elements from -2(including) to 10(excluding) in arithmetic progression with common difference 1.5 , negate all elements which are between 2 and 7, in place. Print out this new array."
   ]
  },
  {
   "cell_type": "code",
   "execution_count": 12,
   "metadata": {},
   "outputs": [
    {
     "data": {
      "text/plain": [
       "array([-2. , -0.5,  1. , -2.5, -4. , -5.5,  7. ,  8.5])"
      ]
     },
     "execution_count": 12,
     "metadata": {},
     "output_type": "execute_result"
    }
   ],
   "source": [
    "import numpy as np\n",
    "def generate():\n",
    "    # your code here\n",
    "    arr = np.arange(-2, 10, 1.5)\n",
    "    arr[(arr>2) & (arr<7)] *= -1\n",
    "    #print(arr)\n",
    "    return arr # return modified array\n",
    "generate()"
   ]
  },
  {
   "cell_type": "markdown",
   "metadata": {},
   "source": [
    "### 2. Create random vector of size 7 and replace the maximum value by 2 and minimum by 7. Sort this array in reverse order. Return the modified vector."
   ]
  },
  {
   "cell_type": "code",
   "execution_count": 19,
   "metadata": {},
   "outputs": [
    {
     "name": "stdout",
     "output_type": "stream",
     "text": [
      "[0.02666116 0.30356635 0.01881451 0.55704674 0.10920563 0.67435022\n",
      " 0.3845939 ]\n",
      "[0.02666116 0.30356635 7.         0.55704674 0.10920563 2.\n",
      " 0.3845939 ]\n"
     ]
    },
    {
     "data": {
      "text/plain": [
       "array([7.        , 2.        , 0.55704674, 0.3845939 , 0.30356635,\n",
       "       0.10920563, 0.02666116])"
      ]
     },
     "execution_count": 19,
     "metadata": {},
     "output_type": "execute_result"
    }
   ],
   "source": [
    "import numpy as np\n",
    "def generate():\n",
    "    # your code\n",
    "    random_vctr = np.random.random(7)\n",
    "    print(random_vctr)\n",
    "    random_vctr[random_vctr.argmax()] = 2\n",
    "    random_vctr[random_vctr.argmin()] = 7\n",
    "    print(random_vctr)\n",
    "    modified_vctr = np.array(sorted(random_vctr, reverse=True))\n",
    "    return modified_vctr # your array\n",
    "generate()"
   ]
  },
  {
   "cell_type": "markdown",
   "metadata": {},
   "source": [
    "### 3. Convert a random 7x2 matrix representing cartesian coordinates to polar coordinates. Print out both.\n",
    "Hint: use arctan2()."
   ]
  },
  {
   "cell_type": "code",
   "execution_count": 23,
   "metadata": {},
   "outputs": [
    {
     "name": "stdout",
     "output_type": "stream",
     "text": [
      "[[0.94615813 0.53050717]\n",
      " [0.15798012 0.26695148]\n",
      " [0.51544726 0.45702855]\n",
      " [0.4028712  0.98142391]\n",
      " [0.88064809 0.57077782]\n",
      " [0.92231745 0.34236358]\n",
      " [0.25697436 0.05299177]]\n",
      "[0.94615813 0.15798012 0.51544726 0.4028712  0.88064809 0.92231745\n",
      " 0.25697436]\n",
      "[0.51101808 1.03643296 0.72539812 1.18127402 0.57506221 0.35543438\n",
      " 0.20336357]\n"
     ]
    }
   ],
   "source": [
    "import numpy as np\n",
    "def generate():\n",
    "    # your code here\n",
    "    matrix = np.random.random((7,2))\n",
    "    print(matrix)\n",
    "    row, column = matrix[:,0], matrix[:,1]\n",
    "    radial_coordinate = np.sqrt(row**2, column**2)\n",
    "    angular_coordinate = np.arctan2(column, row)\n",
    "    print(radial_coordinate)\n",
    "    print(angular_coordinate)\n",
    "    # print out both matrices\n",
    "    return None\n",
    "generate()"
   ]
  },
  {
   "cell_type": "markdown",
   "metadata": {},
   "source": [
    "### 4. Create an numpy array sequence named num_seq when only the starting point, step size and length of sequence is given."
   ]
  },
  {
   "cell_type": "code",
   "execution_count": 24,
   "metadata": {},
   "outputs": [
    {
     "data": {
      "text/plain": [
       "array([ 5,  7,  9, 11, 13, 15, 17, 19, 21, 23, 25, 27, 29, 31, 33])"
      ]
     },
     "execution_count": 24,
     "metadata": {},
     "output_type": "execute_result"
    }
   ],
   "source": [
    "import numpy as np\n",
    "\n",
    "length = 15\n",
    "start = 5\n",
    "step = 2\n",
    "\n",
    "def generate(start, length, step):\n",
    "    # your code here\n",
    "    end = start + (step * length)\n",
    "    num_seq = np.arange(start, end, step)\n",
    "    return num_seq # array created by you, i.e. num_seq\n",
    "generate(start, length, step)"
   ]
  },
  {
   "cell_type": "markdown",
   "metadata": {},
   "source": [
    "### 5. Make a 3*3 array using a 1d array of evenly spaced numbers ranging from 0 to 9, name it arr1.<br/> \n",
    "### Then transpose it to obtain arr2.  From arr2 subtract a 1*3 array with all elements 1 to get arr4.\n",
    "HINT: Use reshape and transpose function."
   ]
  },
  {
   "cell_type": "code",
   "execution_count": 35,
   "metadata": {},
   "outputs": [
    {
     "name": "stdout",
     "output_type": "stream",
     "text": [
      "[0 1 2 3 4 5 6 7 8]\n",
      "[[0 1 2]\n",
      " [3 4 5]\n",
      " [6 7 8]]\n",
      "[[0 3 6]\n",
      " [1 4 7]\n",
      " [2 5 8]]\n",
      "[1 1 1]\n"
     ]
    },
    {
     "data": {
      "text/plain": [
       "array([[-1,  2,  5],\n",
       "       [ 0,  3,  6],\n",
       "       [ 1,  4,  7]])"
      ]
     },
     "execution_count": 35,
     "metadata": {},
     "output_type": "execute_result"
    }
   ],
   "source": [
    "import numpy as np\n",
    "def generate():\n",
    "    # your code here\n",
    "    arr = np.arange(9)\n",
    "    print(arr)\n",
    "    arr1 = arr.reshape(3,3)\n",
    "    print(arr1)\n",
    "    arr2 = arr1.transpose()\n",
    "    print(arr2)\n",
    "    arr3 = np.ones(3, dtype=int)\n",
    "    print(arr3)\n",
    "    arr4 = arr2 - arr3\n",
    "    return arr4 # finally created array i.e arr4\n",
    "generate()"
   ]
  },
  {
   "cell_type": "markdown",
   "metadata": {},
   "source": [
    "### 6. Create a DatetimeIndex that contains each business day of 2016 and use it to index a Series of random numbers. Let's call this Series bus_2k16. Print it out. Hint: use pd.date_range."
   ]
  },
  {
   "cell_type": "code",
   "execution_count": 39,
   "metadata": {},
   "outputs": [
    {
     "name": "stdout",
     "output_type": "stream",
     "text": [
      "DatetimeIndex(['2016-01-01', '2016-01-04', '2016-01-05', '2016-01-06',\n",
      "               '2016-01-07', '2016-01-08', '2016-01-11', '2016-01-12',\n",
      "               '2016-01-13', '2016-01-14',\n",
      "               ...\n",
      "               '2016-12-19', '2016-12-20', '2016-12-21', '2016-12-22',\n",
      "               '2016-12-23', '2016-12-26', '2016-12-27', '2016-12-28',\n",
      "               '2016-12-29', '2016-12-30'],\n",
      "              dtype='datetime64[ns]', length=261, freq='B')\n",
      "2016-01-01    0.332543\n",
      "2016-01-04    0.414324\n",
      "2016-01-05    0.289214\n",
      "2016-01-06    0.015003\n",
      "2016-01-07    0.105240\n",
      "2016-01-08    0.083084\n",
      "2016-01-11    0.763328\n",
      "2016-01-12    0.391913\n",
      "2016-01-13    0.987388\n",
      "2016-01-14    0.544673\n",
      "2016-01-15    0.781433\n",
      "2016-01-18    0.648657\n",
      "2016-01-19    0.036320\n",
      "2016-01-20    0.102481\n",
      "2016-01-21    0.068109\n",
      "2016-01-22    0.699470\n",
      "2016-01-25    0.186849\n",
      "2016-01-26    0.092462\n",
      "2016-01-27    0.344711\n",
      "2016-01-28    0.650255\n",
      "2016-01-29    0.184863\n",
      "2016-02-01    0.451130\n",
      "2016-02-02    0.148130\n",
      "2016-02-03    0.919215\n",
      "2016-02-04    0.690202\n",
      "2016-02-05    0.932591\n",
      "2016-02-08    0.217582\n",
      "2016-02-09    0.051608\n",
      "2016-02-10    0.569666\n",
      "2016-02-11    0.559327\n",
      "                ...   \n",
      "2016-11-21    0.058773\n",
      "2016-11-22    0.400398\n",
      "2016-11-23    0.834261\n",
      "2016-11-24    0.090331\n",
      "2016-11-25    0.851917\n",
      "2016-11-28    0.725509\n",
      "2016-11-29    0.152969\n",
      "2016-11-30    0.082330\n",
      "2016-12-01    0.136865\n",
      "2016-12-02    0.644732\n",
      "2016-12-05    0.152685\n",
      "2016-12-06    0.210828\n",
      "2016-12-07    0.401368\n",
      "2016-12-08    0.904874\n",
      "2016-12-09    0.279447\n",
      "2016-12-12    0.988508\n",
      "2016-12-13    0.963061\n",
      "2016-12-14    0.073838\n",
      "2016-12-15    0.006798\n",
      "2016-12-16    0.054176\n",
      "2016-12-19    0.759432\n",
      "2016-12-20    0.872517\n",
      "2016-12-21    0.391459\n",
      "2016-12-22    0.487630\n",
      "2016-12-23    0.991701\n",
      "2016-12-26    0.720460\n",
      "2016-12-27    0.003554\n",
      "2016-12-28    0.114612\n",
      "2016-12-29    0.142360\n",
      "2016-12-30    0.386145\n",
      "Freq: B, Length: 261, dtype: float64\n"
     ]
    }
   ],
   "source": [
    "import pandas as pd\n",
    "import numpy as np\n",
    "def generate():\n",
    "    # Your code here\n",
    "    date_time_index = pd.date_range(start='2016-01-01', end='2016-12-31', freq='B')\n",
    "    print(date_time_index)\n",
    "    bus_2K16 = pd.Series(np.random.rand(len(date_time_index)), index=date_time_index)\n",
    "    print(bus_2K16)\n",
    "    # print out bus_2k16\n",
    "    return None\n",
    "generate()"
   ]
  },
  {
   "cell_type": "markdown",
   "metadata": {},
   "source": [
    "###  7. For each calendar month in dataframe bus_2k16, from previous problem. Print out the mean of values also find the sum of the values in bus_2k16 for every Sunday."
   ]
  },
  {
   "cell_type": "code",
   "execution_count": 42,
   "metadata": {},
   "outputs": [
    {
     "name": "stdout",
     "output_type": "stream",
     "text": [
      "DatetimeIndex(['2016-01-01', '2016-01-04', '2016-01-05', '2016-01-06',\n",
      "               '2016-01-07', '2016-01-08', '2016-01-11', '2016-01-12',\n",
      "               '2016-01-13', '2016-01-14',\n",
      "               ...\n",
      "               '2016-12-19', '2016-12-20', '2016-12-21', '2016-12-22',\n",
      "               '2016-12-23', '2016-12-26', '2016-12-27', '2016-12-28',\n",
      "               '2016-12-29', '2016-12-30'],\n",
      "              dtype='datetime64[ns]', length=261, freq='B')\n",
      "2016-01-01    0.511465\n",
      "2016-01-04    0.859764\n",
      "2016-01-05    0.350747\n",
      "2016-01-06    0.328893\n",
      "2016-01-07    0.744469\n",
      "2016-01-08    0.039281\n",
      "2016-01-11    0.656153\n",
      "2016-01-12    0.704680\n",
      "2016-01-13    0.571295\n",
      "2016-01-14    0.706490\n",
      "2016-01-15    0.416835\n",
      "2016-01-18    0.173019\n",
      "2016-01-19    0.200931\n",
      "2016-01-20    0.341487\n",
      "2016-01-21    0.701570\n",
      "2016-01-22    0.975988\n",
      "2016-01-25    0.183207\n",
      "2016-01-26    0.185096\n",
      "2016-01-27    0.561117\n",
      "2016-01-28    0.281987\n",
      "2016-01-29    0.053547\n",
      "2016-02-01    0.875473\n",
      "2016-02-02    0.217658\n",
      "2016-02-03    0.611923\n",
      "2016-02-04    0.960106\n",
      "2016-02-05    0.267999\n",
      "2016-02-08    0.016054\n",
      "2016-02-09    0.639246\n",
      "2016-02-10    0.083854\n",
      "2016-02-11    0.978649\n",
      "                ...   \n",
      "2016-11-21    0.863061\n",
      "2016-11-22    0.797831\n",
      "2016-11-23    0.199932\n",
      "2016-11-24    0.127012\n",
      "2016-11-25    0.548454\n",
      "2016-11-28    0.137652\n",
      "2016-11-29    0.183934\n",
      "2016-11-30    0.857636\n",
      "2016-12-01    0.252367\n",
      "2016-12-02    0.299754\n",
      "2016-12-05    0.886201\n",
      "2016-12-06    0.284014\n",
      "2016-12-07    0.255816\n",
      "2016-12-08    0.563310\n",
      "2016-12-09    0.273807\n",
      "2016-12-12    0.457117\n",
      "2016-12-13    0.725507\n",
      "2016-12-14    0.047551\n",
      "2016-12-15    0.717651\n",
      "2016-12-16    0.764647\n",
      "2016-12-19    0.128330\n",
      "2016-12-20    0.269657\n",
      "2016-12-21    0.238985\n",
      "2016-12-22    0.644525\n",
      "2016-12-23    0.791503\n",
      "2016-12-26    0.254132\n",
      "2016-12-27    0.579109\n",
      "2016-12-28    0.628045\n",
      "2016-12-29    0.811330\n",
      "2016-12-30    0.693655\n",
      "Freq: B, Length: 261, dtype: float64\n",
      "2016-01-31    0.454668\n",
      "2016-02-29    0.503848\n",
      "2016-03-31    0.507549\n",
      "2016-04-30    0.519207\n",
      "2016-05-31    0.557537\n",
      "2016-06-30    0.506541\n",
      "2016-07-31    0.355218\n",
      "2016-08-31    0.583649\n",
      "2016-09-30    0.575792\n",
      "2016-10-31    0.464032\n",
      "2016-11-30    0.467198\n",
      "2016-12-31    0.480319\n",
      "Freq: M, dtype: float64\n",
      "26.03863995707463\n"
     ]
    }
   ],
   "source": [
    "import pandas as pd\n",
    "def generate():\n",
    "    # Your code here\n",
    "    date_time_index = pd.date_range(start='2016-01-01', end='2016-12-31', freq='B')\n",
    "    print(date_time_index)\n",
    "    bus_2K16 = pd.Series(np.random.rand(len(date_time_index)), index=date_time_index)\n",
    "    print(bus_2K16)\n",
    "    # print out mean\n",
    "    print(bus_2K16.resample('M').mean())\n",
    "    print(bus_2K16[bus_2K16.index.weekday == 0].sum())\n",
    "    # print out sum of the values in bus_2k16 for every Sunday.\n",
    "    return None\n",
    "generate()"
   ]
  },
  {
   "cell_type": "markdown",
   "metadata": {},
   "source": [
    "### 8.Given the dataframe df, In the From_To column split each string on the underscore delimiter _ to give a new temporary DataFrame with the correct values. Also standardise the strings so that only the first letter is uppercase (e.g. \"londON\" should become \"London\".) Assign the correct column names to this temporary DataFrame named as temp. Return temp."
   ]
  },
  {
   "cell_type": "code",
   "execution_count": 54,
   "metadata": {},
   "outputs": [
    {
     "name": "stdout",
     "output_type": "stream",
     "text": [
      "          0          1\n",
      "0    LoNDon      paris\n",
      "1    MAdrid      miLAN\n",
      "2    londON  StockhOlm\n",
      "3  Budapest      PaRis\n",
      "4  Brussels     londOn\n"
     ]
    },
    {
     "data": {
      "text/html": [
       "<div>\n",
       "<style scoped>\n",
       "    .dataframe tbody tr th:only-of-type {\n",
       "        vertical-align: middle;\n",
       "    }\n",
       "\n",
       "    .dataframe tbody tr th {\n",
       "        vertical-align: top;\n",
       "    }\n",
       "\n",
       "    .dataframe thead th {\n",
       "        text-align: right;\n",
       "    }\n",
       "</style>\n",
       "<table border=\"1\" class=\"dataframe\">\n",
       "  <thead>\n",
       "    <tr style=\"text-align: right;\">\n",
       "      <th></th>\n",
       "      <th>From</th>\n",
       "      <th>To</th>\n",
       "    </tr>\n",
       "  </thead>\n",
       "  <tbody>\n",
       "    <tr>\n",
       "      <th>0</th>\n",
       "      <td>London</td>\n",
       "      <td>Paris</td>\n",
       "    </tr>\n",
       "    <tr>\n",
       "      <th>1</th>\n",
       "      <td>Madrid</td>\n",
       "      <td>Milan</td>\n",
       "    </tr>\n",
       "    <tr>\n",
       "      <th>2</th>\n",
       "      <td>London</td>\n",
       "      <td>Stockholm</td>\n",
       "    </tr>\n",
       "    <tr>\n",
       "      <th>3</th>\n",
       "      <td>Budapest</td>\n",
       "      <td>Paris</td>\n",
       "    </tr>\n",
       "    <tr>\n",
       "      <th>4</th>\n",
       "      <td>Brussels</td>\n",
       "      <td>London</td>\n",
       "    </tr>\n",
       "  </tbody>\n",
       "</table>\n",
       "</div>"
      ],
      "text/plain": [
       "       From         To\n",
       "0    London      Paris\n",
       "1    Madrid      Milan\n",
       "2    London  Stockholm\n",
       "3  Budapest      Paris\n",
       "4  Brussels     London"
      ]
     },
     "execution_count": 54,
     "metadata": {},
     "output_type": "execute_result"
    }
   ],
   "source": [
    "import numpy as np\n",
    "df = pd.DataFrame({'From_To': ['LoNDon_paris', 'MAdrid_miLAN', 'londON_StockhOlm', \n",
    "                               'Budapest_PaRis', 'Brussels_londOn'],\n",
    "              'FlightNumber': [10045, np.nan, 10065, np.nan, 10085],\n",
    "              'RecentDelays': [[23, 47], [], [24, 43, 87], [13], [67, 32]],\n",
    "                   'Airline': ['KLM(!)', '<Air France> (12)', '(British Airways. )', \n",
    "                               '12. Air France', '\"Swiss Air\"']})\n",
    "import pandas as pd\n",
    "def generate():\n",
    "    # write your code here\n",
    "    temp = df.From_To.str.split('_', expand=True)\n",
    "    print(temp)\n",
    "    temp.columns = ['From', 'To']\n",
    "    temp['From'] = temp['From'].str.capitalize()\n",
    "    temp['To'] =  temp['To'].str.capitalize()\n",
    "    return temp# your temporary variable i.e temp.\n",
    "generate()"
   ]
  },
  {
   "cell_type": "markdown",
   "metadata": {},
   "source": [
    "### 9. Given a dataFrame with 10 columns of real numbers. Find that column's label which has the smallest sum? Also count the number of unique rows the dataframe has. \n",
    "Hint: use idxmin method."
   ]
  },
  {
   "cell_type": "code",
   "execution_count": 71,
   "metadata": {},
   "outputs": [
    {
     "name": "stdout",
     "output_type": "stream",
     "text": [
      "          q         r         s         t         u         v         w  \\\n",
      "0  0.060081  0.312706  0.090696  0.262264  0.767557  0.455118  0.357038   \n",
      "1  0.010063  0.133404  0.509903  0.563631  0.394074  0.244053  0.309541   \n",
      "2  0.878645  0.484854  0.770824  0.810844  0.722956  0.448734  0.619920   \n",
      "3  0.688907  0.977954  0.855719  0.547504  0.908084  0.563436  0.684163   \n",
      "\n",
      "          x         y         z  \n",
      "0  0.892344  0.611219  0.307781  \n",
      "1  0.724968  0.286276  0.130586  \n",
      "2  0.949215  0.484717  0.639155  \n",
      "3  0.714349  0.735727  0.849969  \n",
      "q\n",
      "4\n"
     ]
    }
   ],
   "source": [
    "import numpy as np\n",
    "import pandas as pd\n",
    "df = pd.DataFrame(np.random.random(size=(4, 10)), columns=list('qrstuvwxyz'))\n",
    "print(df)\n",
    "def generate():\n",
    "    # your code here\n",
    "    # print out that column's label which has the smallest sum\n",
    "    print(df.sum().idxmin())\n",
    "    # Also count the number of unique rows the dataframe has.\n",
    "    print(len(df) - df.duplicated(keep=False).sum())\n",
    "    return None\n",
    "generate()"
   ]
  },
  {
   "cell_type": "markdown",
   "metadata": {},
   "source": [
    "### 10. Given a dataFrame df with a column 'int' of integers. Print out the dataframe with filtered out rows which contain the same integer as the row immediately above. Also print out the dataframe after subtracting the mean of all integers from each element .\n",
    "Hint: use drop_duplicates and sub methods"
   ]
  },
  {
   "cell_type": "code",
   "execution_count": 74,
   "metadata": {},
   "outputs": [
    {
     "name": "stdout",
     "output_type": "stream",
     "text": [
      "   int\n",
      "0    1\n",
      "1    2\n",
      "3    3\n",
      "4    4\n",
      "5    5\n",
      "8    6\n",
      "9    7\n",
      "         int\n",
      "0  -3.272727\n",
      "1  -2.272727\n",
      "2  -2.272727\n",
      "3  -1.272727\n",
      "4  -0.272727\n",
      "5   0.727273\n",
      "6   0.727273\n",
      "7   0.727273\n",
      "8   1.727273\n",
      "9   2.727273\n",
      "10  2.727273\n"
     ]
    }
   ],
   "source": [
    "import pandas as pd\n",
    "df = pd.DataFrame({'int': [1, 2, 2, 3, 4, 5, 5, 5, 6, 7, 7]})\n",
    "def generate():\n",
    "    # your code here\n",
    "    # Print out the dataframe with filtered out rows which contain the same integer as the row immediately above\n",
    "    print(df.drop_duplicates(subset='int'))\n",
    "    # Print out the dataframe after subtracting the mean of all integers from each element\n",
    "    print(df.sub(df.mean(axis=0), axis=1))\n",
    "    return None\n",
    "generate()"
   ]
  }
 ],
 "metadata": {
  "kernelspec": {
   "display_name": "Python 3",
   "language": "python",
   "name": "python3"
  },
  "language_info": {
   "codemirror_mode": {
    "name": "ipython",
    "version": 3
   },
   "file_extension": ".py",
   "mimetype": "text/x-python",
   "name": "python",
   "nbconvert_exporter": "python",
   "pygments_lexer": "ipython3",
   "version": "3.6.5"
  }
 },
 "nbformat": 4,
 "nbformat_minor": 2
}
